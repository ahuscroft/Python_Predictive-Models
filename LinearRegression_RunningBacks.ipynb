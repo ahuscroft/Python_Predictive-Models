{
 "cells": [
  {
   "cell_type": "code",
   "execution_count": 1,
   "metadata": {},
   "outputs": [],
   "source": [
    "#import required packages to explore the data\n",
    "import numpy as np\n",
    "import pandas as pd\n",
    "import seaborn as sns\n",
    "import matplotlib.pyplot as plt\n",
    "#%matplotlib inline\n",
    "from sklearn.linear_model import LinearRegression\n",
    "from sklearn import metrics\n",
    "from sklearn.model_selection import train_test_split\n",
    "from sklearn.cluster import KMeans\n",
    "import statsmodels.api as sm\n"
   ]
  },
  {
   "cell_type": "markdown",
   "metadata": {},
   "source": [
    "__Data source: ProFootballReference.com__"
   ]
  },
  {
   "cell_type": "code",
   "execution_count": 2,
   "metadata": {},
   "outputs": [],
   "source": [
    "#import ProFootball Reference Player Stats\n",
    "RPSData = pd.read_csv(r\"C:\\Users\\PFR_HistoricalStats.csv\")"
   ]
  },
  {
   "cell_type": "code",
   "execution_count": 3,
   "metadata": {},
   "outputs": [
    {
     "data": {
      "text/html": [
       "<div>\n",
       "<style scoped>\n",
       "    .dataframe tbody tr th:only-of-type {\n",
       "        vertical-align: middle;\n",
       "    }\n",
       "\n",
       "    .dataframe tbody tr th {\n",
       "        vertical-align: top;\n",
       "    }\n",
       "\n",
       "    .dataframe thead th {\n",
       "        text-align: right;\n",
       "    }\n",
       "</style>\n",
       "<table border=\"1\" class=\"dataframe\">\n",
       "  <thead>\n",
       "    <tr style=\"text-align: right;\">\n",
       "      <th></th>\n",
       "      <th>Player</th>\n",
       "      <th>Year</th>\n",
       "      <th>Tm</th>\n",
       "      <th>FantPos</th>\n",
       "      <th>Age</th>\n",
       "      <th>G</th>\n",
       "      <th>GS</th>\n",
       "      <th>Cmp</th>\n",
       "      <th>Pass_Att</th>\n",
       "      <th>Yds_G_Pass</th>\n",
       "      <th>...</th>\n",
       "      <th>Tot_TD</th>\n",
       "      <th>2PM</th>\n",
       "      <th>2PP</th>\n",
       "      <th>FantPt</th>\n",
       "      <th>PPR</th>\n",
       "      <th>DKPt</th>\n",
       "      <th>FDPt</th>\n",
       "      <th>VBD</th>\n",
       "      <th>PosRank</th>\n",
       "      <th>OvRank</th>\n",
       "    </tr>\n",
       "  </thead>\n",
       "  <tbody>\n",
       "    <tr>\n",
       "      <th>0</th>\n",
       "      <td>Todd Gurley</td>\n",
       "      <td>2017</td>\n",
       "      <td>LAR</td>\n",
       "      <td>RB</td>\n",
       "      <td>23</td>\n",
       "      <td>15</td>\n",
       "      <td>15</td>\n",
       "      <td>0</td>\n",
       "      <td>0</td>\n",
       "      <td>0</td>\n",
       "      <td>...</td>\n",
       "      <td>19</td>\n",
       "      <td>NaN</td>\n",
       "      <td>NaN</td>\n",
       "      <td>319.0</td>\n",
       "      <td>383.3</td>\n",
       "      <td>391.3</td>\n",
       "      <td>351.3</td>\n",
       "      <td>192.0</td>\n",
       "      <td>1</td>\n",
       "      <td>1.0</td>\n",
       "    </tr>\n",
       "    <tr>\n",
       "      <th>1</th>\n",
       "      <td>Le'Veon Bell</td>\n",
       "      <td>2017</td>\n",
       "      <td>PIT</td>\n",
       "      <td>RB</td>\n",
       "      <td>25</td>\n",
       "      <td>15</td>\n",
       "      <td>15</td>\n",
       "      <td>0</td>\n",
       "      <td>0</td>\n",
       "      <td>0</td>\n",
       "      <td>...</td>\n",
       "      <td>11</td>\n",
       "      <td>NaN</td>\n",
       "      <td>NaN</td>\n",
       "      <td>257.0</td>\n",
       "      <td>341.6</td>\n",
       "      <td>349.6</td>\n",
       "      <td>299.1</td>\n",
       "      <td>130.0</td>\n",
       "      <td>2</td>\n",
       "      <td>2.0</td>\n",
       "    </tr>\n",
       "    <tr>\n",
       "      <th>2</th>\n",
       "      <td>Alvin Kamara</td>\n",
       "      <td>2017</td>\n",
       "      <td>NOR</td>\n",
       "      <td>RB</td>\n",
       "      <td>22</td>\n",
       "      <td>16</td>\n",
       "      <td>3</td>\n",
       "      <td>0</td>\n",
       "      <td>0</td>\n",
       "      <td>0</td>\n",
       "      <td>...</td>\n",
       "      <td>14</td>\n",
       "      <td>1.0</td>\n",
       "      <td>NaN</td>\n",
       "      <td>239.0</td>\n",
       "      <td>320.4</td>\n",
       "      <td>327.4</td>\n",
       "      <td>279.9</td>\n",
       "      <td>112.0</td>\n",
       "      <td>4</td>\n",
       "      <td>4.0</td>\n",
       "    </tr>\n",
       "    <tr>\n",
       "      <th>3</th>\n",
       "      <td>Kareem Hunt</td>\n",
       "      <td>2017</td>\n",
       "      <td>KAN</td>\n",
       "      <td>RB</td>\n",
       "      <td>22</td>\n",
       "      <td>16</td>\n",
       "      <td>16</td>\n",
       "      <td>0</td>\n",
       "      <td>0</td>\n",
       "      <td>0</td>\n",
       "      <td>...</td>\n",
       "      <td>11</td>\n",
       "      <td>NaN</td>\n",
       "      <td>NaN</td>\n",
       "      <td>242.0</td>\n",
       "      <td>295.2</td>\n",
       "      <td>302.2</td>\n",
       "      <td>268.7</td>\n",
       "      <td>115.0</td>\n",
       "      <td>3</td>\n",
       "      <td>3.0</td>\n",
       "    </tr>\n",
       "    <tr>\n",
       "      <th>4</th>\n",
       "      <td>Melvin Gordon</td>\n",
       "      <td>2017</td>\n",
       "      <td>LAC</td>\n",
       "      <td>RB</td>\n",
       "      <td>24</td>\n",
       "      <td>16</td>\n",
       "      <td>16</td>\n",
       "      <td>0</td>\n",
       "      <td>0</td>\n",
       "      <td>0</td>\n",
       "      <td>...</td>\n",
       "      <td>12</td>\n",
       "      <td>NaN</td>\n",
       "      <td>NaN</td>\n",
       "      <td>230.0</td>\n",
       "      <td>288.1</td>\n",
       "      <td>294.1</td>\n",
       "      <td>259.1</td>\n",
       "      <td>103.0</td>\n",
       "      <td>5</td>\n",
       "      <td>5.0</td>\n",
       "    </tr>\n",
       "  </tbody>\n",
       "</table>\n",
       "<p>5 rows × 33 columns</p>\n",
       "</div>"
      ],
      "text/plain": [
       "          Player  Year   Tm FantPos  Age   G  GS  Cmp  Pass_Att  Yds_G_Pass  \\\n",
       "0    Todd Gurley  2017  LAR      RB   23  15  15    0         0           0   \n",
       "1   Le'Veon Bell  2017  PIT      RB   25  15  15    0         0           0   \n",
       "2  Alvin Kamara   2017  NOR      RB   22  16   3    0         0           0   \n",
       "3    Kareem Hunt  2017  KAN      RB   22  16  16    0         0           0   \n",
       "4  Melvin Gordon  2017  LAC      RB   24  16  16    0         0           0   \n",
       "\n",
       "   ...  Tot_TD  2PM  2PP  FantPt    PPR   DKPt   FDPt    VBD  PosRank  OvRank  \n",
       "0  ...      19  NaN  NaN   319.0  383.3  391.3  351.3  192.0        1     1.0  \n",
       "1  ...      11  NaN  NaN   257.0  341.6  349.6  299.1  130.0        2     2.0  \n",
       "2  ...      14  1.0  NaN   239.0  320.4  327.4  279.9  112.0        4     4.0  \n",
       "3  ...      11  NaN  NaN   242.0  295.2  302.2  268.7  115.0        3     3.0  \n",
       "4  ...      12  NaN  NaN   230.0  288.1  294.1  259.1  103.0        5     5.0  \n",
       "\n",
       "[5 rows x 33 columns]"
      ]
     },
     "execution_count": 3,
     "metadata": {},
     "output_type": "execute_result"
    }
   ],
   "source": [
    "#View a sample of the data\n",
    "RPSData.head()"
   ]
  },
  {
   "cell_type": "markdown",
   "metadata": {},
   "source": [
    "## Prepare Data for training and testing"
   ]
  },
  {
   "cell_type": "code",
   "execution_count": 4,
   "metadata": {},
   "outputs": [],
   "source": [
    "#Filter table to view only stats and fantasy points related to NFL Running Backs\n",
    "RPSData = RPSData.loc[RPSData['FantPos'] == 'RB', ['Player', 'Year', 'FantPos', 'Age', 'G', 'GS', 'Rush_Att', 'Rush_Yds_G', 'Y/A', 'Rush_TD', 'Tgt', 'Rec', 'Rec_Yds', 'Y/R', 'Rec_TD', 'Tot_TD', 'FantPt', 'PPR']]\n",
    "\n",
    "#Replace NANs with 0\n",
    "RPSData['Y/A'] = pd.to_numeric(RPSData['Y/A'], errors = 'coerce')\n",
    "RPSData['Y/A'] = RPSData['Y/A'].replace(np.nan, 0)\n",
    "\n",
    "RPSData['Y/R'] = pd.to_numeric(RPSData['Y/R'], errors = 'coerce')\n",
    "RPSData['Y/R'] = RPSData['Y/R'].replace(np.nan,0)\n",
    "\n",
    "RPSData['PPR'] = pd.to_numeric(RPSData['PPR'], errors = 'coerce')\n",
    "RPSData['PPR'] = RPSData['PPR'].replace(np.nan,0)\n"
   ]
  },
  {
   "cell_type": "code",
   "execution_count": 5,
   "metadata": {},
   "outputs": [
    {
     "data": {
      "text/html": [
       "<div>\n",
       "<style scoped>\n",
       "    .dataframe tbody tr th:only-of-type {\n",
       "        vertical-align: middle;\n",
       "    }\n",
       "\n",
       "    .dataframe tbody tr th {\n",
       "        vertical-align: top;\n",
       "    }\n",
       "\n",
       "    .dataframe thead th {\n",
       "        text-align: right;\n",
       "    }\n",
       "</style>\n",
       "<table border=\"1\" class=\"dataframe\">\n",
       "  <thead>\n",
       "    <tr style=\"text-align: right;\">\n",
       "      <th></th>\n",
       "      <th>Player</th>\n",
       "      <th>Year</th>\n",
       "      <th>FantPos</th>\n",
       "      <th>Age</th>\n",
       "      <th>G</th>\n",
       "      <th>GS</th>\n",
       "      <th>Rush_Att</th>\n",
       "      <th>Rush_Yds_G</th>\n",
       "      <th>Y/A</th>\n",
       "      <th>Rush_TD</th>\n",
       "      <th>Tgt</th>\n",
       "      <th>Rec</th>\n",
       "      <th>Rec_Yds</th>\n",
       "      <th>Y/R</th>\n",
       "      <th>Rec_TD</th>\n",
       "      <th>Tot_TD</th>\n",
       "      <th>FantPt</th>\n",
       "      <th>PPR</th>\n",
       "    </tr>\n",
       "  </thead>\n",
       "  <tbody>\n",
       "    <tr>\n",
       "      <th>0</th>\n",
       "      <td>Todd Gurley</td>\n",
       "      <td>2017</td>\n",
       "      <td>RB</td>\n",
       "      <td>23</td>\n",
       "      <td>15</td>\n",
       "      <td>15</td>\n",
       "      <td>279</td>\n",
       "      <td>1305</td>\n",
       "      <td>4.68</td>\n",
       "      <td>13</td>\n",
       "      <td>87</td>\n",
       "      <td>64</td>\n",
       "      <td>788</td>\n",
       "      <td>12.31</td>\n",
       "      <td>6</td>\n",
       "      <td>19</td>\n",
       "      <td>319.0</td>\n",
       "      <td>383.3</td>\n",
       "    </tr>\n",
       "    <tr>\n",
       "      <th>1</th>\n",
       "      <td>Le'Veon Bell</td>\n",
       "      <td>2017</td>\n",
       "      <td>RB</td>\n",
       "      <td>25</td>\n",
       "      <td>15</td>\n",
       "      <td>15</td>\n",
       "      <td>321</td>\n",
       "      <td>1291</td>\n",
       "      <td>4.02</td>\n",
       "      <td>9</td>\n",
       "      <td>106</td>\n",
       "      <td>85</td>\n",
       "      <td>655</td>\n",
       "      <td>7.71</td>\n",
       "      <td>2</td>\n",
       "      <td>11</td>\n",
       "      <td>257.0</td>\n",
       "      <td>341.6</td>\n",
       "    </tr>\n",
       "    <tr>\n",
       "      <th>2</th>\n",
       "      <td>Alvin Kamara</td>\n",
       "      <td>2017</td>\n",
       "      <td>RB</td>\n",
       "      <td>22</td>\n",
       "      <td>16</td>\n",
       "      <td>3</td>\n",
       "      <td>120</td>\n",
       "      <td>728</td>\n",
       "      <td>6.07</td>\n",
       "      <td>8</td>\n",
       "      <td>100</td>\n",
       "      <td>81</td>\n",
       "      <td>826</td>\n",
       "      <td>10.20</td>\n",
       "      <td>5</td>\n",
       "      <td>14</td>\n",
       "      <td>239.0</td>\n",
       "      <td>320.4</td>\n",
       "    </tr>\n",
       "    <tr>\n",
       "      <th>3</th>\n",
       "      <td>Kareem Hunt</td>\n",
       "      <td>2017</td>\n",
       "      <td>RB</td>\n",
       "      <td>22</td>\n",
       "      <td>16</td>\n",
       "      <td>16</td>\n",
       "      <td>272</td>\n",
       "      <td>1327</td>\n",
       "      <td>4.88</td>\n",
       "      <td>8</td>\n",
       "      <td>63</td>\n",
       "      <td>53</td>\n",
       "      <td>455</td>\n",
       "      <td>8.58</td>\n",
       "      <td>3</td>\n",
       "      <td>11</td>\n",
       "      <td>242.0</td>\n",
       "      <td>295.2</td>\n",
       "    </tr>\n",
       "    <tr>\n",
       "      <th>4</th>\n",
       "      <td>Melvin Gordon</td>\n",
       "      <td>2017</td>\n",
       "      <td>RB</td>\n",
       "      <td>24</td>\n",
       "      <td>16</td>\n",
       "      <td>16</td>\n",
       "      <td>284</td>\n",
       "      <td>1105</td>\n",
       "      <td>3.89</td>\n",
       "      <td>8</td>\n",
       "      <td>83</td>\n",
       "      <td>58</td>\n",
       "      <td>476</td>\n",
       "      <td>8.21</td>\n",
       "      <td>4</td>\n",
       "      <td>12</td>\n",
       "      <td>230.0</td>\n",
       "      <td>288.1</td>\n",
       "    </tr>\n",
       "    <tr>\n",
       "      <th>5</th>\n",
       "      <td>Mark Ingram</td>\n",
       "      <td>2017</td>\n",
       "      <td>RB</td>\n",
       "      <td>28</td>\n",
       "      <td>16</td>\n",
       "      <td>12</td>\n",
       "      <td>230</td>\n",
       "      <td>1124</td>\n",
       "      <td>4.89</td>\n",
       "      <td>12</td>\n",
       "      <td>71</td>\n",
       "      <td>58</td>\n",
       "      <td>416</td>\n",
       "      <td>7.17</td>\n",
       "      <td>0</td>\n",
       "      <td>12</td>\n",
       "      <td>220.0</td>\n",
       "      <td>278.0</td>\n",
       "    </tr>\n",
       "    <tr>\n",
       "      <th>6</th>\n",
       "      <td>LeSean McCoy</td>\n",
       "      <td>2017</td>\n",
       "      <td>RB</td>\n",
       "      <td>29</td>\n",
       "      <td>16</td>\n",
       "      <td>16</td>\n",
       "      <td>287</td>\n",
       "      <td>1138</td>\n",
       "      <td>3.97</td>\n",
       "      <td>6</td>\n",
       "      <td>77</td>\n",
       "      <td>59</td>\n",
       "      <td>448</td>\n",
       "      <td>7.59</td>\n",
       "      <td>2</td>\n",
       "      <td>8</td>\n",
       "      <td>205.0</td>\n",
       "      <td>263.6</td>\n",
       "    </tr>\n",
       "    <tr>\n",
       "      <th>7</th>\n",
       "      <td>Carlos Hyde</td>\n",
       "      <td>2017</td>\n",
       "      <td>RB</td>\n",
       "      <td>27</td>\n",
       "      <td>16</td>\n",
       "      <td>16</td>\n",
       "      <td>240</td>\n",
       "      <td>938</td>\n",
       "      <td>3.91</td>\n",
       "      <td>8</td>\n",
       "      <td>88</td>\n",
       "      <td>59</td>\n",
       "      <td>350</td>\n",
       "      <td>5.93</td>\n",
       "      <td>0</td>\n",
       "      <td>8</td>\n",
       "      <td>175.0</td>\n",
       "      <td>233.8</td>\n",
       "    </tr>\n",
       "    <tr>\n",
       "      <th>8</th>\n",
       "      <td>Leonard Fournette</td>\n",
       "      <td>2017</td>\n",
       "      <td>RB</td>\n",
       "      <td>22</td>\n",
       "      <td>13</td>\n",
       "      <td>13</td>\n",
       "      <td>268</td>\n",
       "      <td>1040</td>\n",
       "      <td>3.88</td>\n",
       "      <td>9</td>\n",
       "      <td>48</td>\n",
       "      <td>36</td>\n",
       "      <td>302</td>\n",
       "      <td>8.39</td>\n",
       "      <td>1</td>\n",
       "      <td>10</td>\n",
       "      <td>194.0</td>\n",
       "      <td>230.2</td>\n",
       "    </tr>\n",
       "    <tr>\n",
       "      <th>9</th>\n",
       "      <td>Christian McCaffrey</td>\n",
       "      <td>2017</td>\n",
       "      <td>RB</td>\n",
       "      <td>21</td>\n",
       "      <td>16</td>\n",
       "      <td>10</td>\n",
       "      <td>117</td>\n",
       "      <td>435</td>\n",
       "      <td>3.72</td>\n",
       "      <td>2</td>\n",
       "      <td>113</td>\n",
       "      <td>80</td>\n",
       "      <td>651</td>\n",
       "      <td>8.14</td>\n",
       "      <td>5</td>\n",
       "      <td>7</td>\n",
       "      <td>149.0</td>\n",
       "      <td>228.6</td>\n",
       "    </tr>\n",
       "  </tbody>\n",
       "</table>\n",
       "</div>"
      ],
      "text/plain": [
       "                Player  Year FantPos  Age   G  GS  Rush_Att  Rush_Yds_G   Y/A  \\\n",
       "0          Todd Gurley  2017      RB   23  15  15       279        1305  4.68   \n",
       "1         Le'Veon Bell  2017      RB   25  15  15       321        1291  4.02   \n",
       "2        Alvin Kamara   2017      RB   22  16   3       120         728  6.07   \n",
       "3          Kareem Hunt  2017      RB   22  16  16       272        1327  4.88   \n",
       "4        Melvin Gordon  2017      RB   24  16  16       284        1105  3.89   \n",
       "5          Mark Ingram  2017      RB   28  16  12       230        1124  4.89   \n",
       "6         LeSean McCoy  2017      RB   29  16  16       287        1138  3.97   \n",
       "7          Carlos Hyde  2017      RB   27  16  16       240         938  3.91   \n",
       "8    Leonard Fournette  2017      RB   22  13  13       268        1040  3.88   \n",
       "9  Christian McCaffrey  2017      RB   21  16  10       117         435  3.72   \n",
       "\n",
       "   Rush_TD  Tgt  Rec  Rec_Yds    Y/R  Rec_TD  Tot_TD  FantPt    PPR  \n",
       "0       13   87   64      788  12.31       6      19   319.0  383.3  \n",
       "1        9  106   85      655   7.71       2      11   257.0  341.6  \n",
       "2        8  100   81      826  10.20       5      14   239.0  320.4  \n",
       "3        8   63   53      455   8.58       3      11   242.0  295.2  \n",
       "4        8   83   58      476   8.21       4      12   230.0  288.1  \n",
       "5       12   71   58      416   7.17       0      12   220.0  278.0  \n",
       "6        6   77   59      448   7.59       2       8   205.0  263.6  \n",
       "7        8   88   59      350   5.93       0       8   175.0  233.8  \n",
       "8        9   48   36      302   8.39       1      10   194.0  230.2  \n",
       "9        2  113   80      651   8.14       5       7   149.0  228.6  "
      ]
     },
     "execution_count": 5,
     "metadata": {},
     "output_type": "execute_result"
    }
   ],
   "source": [
    "RPSData.head(10)"
   ]
  },
  {
   "cell_type": "code",
   "execution_count": 6,
   "metadata": {},
   "outputs": [],
   "source": [
    "# Add columns to score a running backs usage. \n",
    "# \"Utilization1\" adds rushing attempts and targets together. \"Utilization2\" adds rushing attempts, targets, receptions.\n",
    "RPSData['Utilization1'] = RPSData['Rush_Att'] + RPSData['Tgt']\n",
    "RPSData['Utilization2'] = RPSData['Rush_Att'] + RPSData['Tgt'] + RPSData['Rec']\n",
    "RPSData['Efficiency'] = RPSData['Y/A'] + RPSData['Y/R']\n",
    "\n",
    "#RPSData = RPSData.sort_values(['Utilization2'], ascending = [False])\n",
    "RPSData = RPSData.sort_values(['Year'], ascending = [False])\n",
    "#RPSData = RPSData.sort_values(['PPR'], ascending = [False])"
   ]
  },
  {
   "cell_type": "code",
   "execution_count": 7,
   "metadata": {},
   "outputs": [
    {
     "data": {
      "text/html": [
       "<div>\n",
       "<style scoped>\n",
       "    .dataframe tbody tr th:only-of-type {\n",
       "        vertical-align: middle;\n",
       "    }\n",
       "\n",
       "    .dataframe tbody tr th {\n",
       "        vertical-align: top;\n",
       "    }\n",
       "\n",
       "    .dataframe thead th {\n",
       "        text-align: right;\n",
       "    }\n",
       "</style>\n",
       "<table border=\"1\" class=\"dataframe\">\n",
       "  <thead>\n",
       "    <tr style=\"text-align: right;\">\n",
       "      <th></th>\n",
       "      <th>Player</th>\n",
       "      <th>Year</th>\n",
       "      <th>FantPos</th>\n",
       "      <th>Age</th>\n",
       "      <th>G</th>\n",
       "      <th>GS</th>\n",
       "      <th>Rush_Att</th>\n",
       "      <th>Rush_Yds_G</th>\n",
       "      <th>Y/A</th>\n",
       "      <th>Rush_TD</th>\n",
       "      <th>...</th>\n",
       "      <th>Rec</th>\n",
       "      <th>Rec_Yds</th>\n",
       "      <th>Y/R</th>\n",
       "      <th>Rec_TD</th>\n",
       "      <th>Tot_TD</th>\n",
       "      <th>FantPt</th>\n",
       "      <th>PPR</th>\n",
       "      <th>Utilization1</th>\n",
       "      <th>Utilization2</th>\n",
       "      <th>Efficiency</th>\n",
       "    </tr>\n",
       "  </thead>\n",
       "  <tbody>\n",
       "    <tr>\n",
       "      <th>2436</th>\n",
       "      <td>Adrian Killins</td>\n",
       "      <td>2020</td>\n",
       "      <td>RB</td>\n",
       "      <td>22</td>\n",
       "      <td>1</td>\n",
       "      <td>0</td>\n",
       "      <td>1</td>\n",
       "      <td>-12</td>\n",
       "      <td>-12.00</td>\n",
       "      <td>0</td>\n",
       "      <td>...</td>\n",
       "      <td>1</td>\n",
       "      <td>2</td>\n",
       "      <td>2.00</td>\n",
       "      <td>0</td>\n",
       "      <td>0</td>\n",
       "      <td>-1.0</td>\n",
       "      <td>0.0</td>\n",
       "      <td>2</td>\n",
       "      <td>3</td>\n",
       "      <td>-10.00</td>\n",
       "    </tr>\n",
       "    <tr>\n",
       "      <th>2026</th>\n",
       "      <td>Le'Veon Bell</td>\n",
       "      <td>2020</td>\n",
       "      <td>RB</td>\n",
       "      <td>28</td>\n",
       "      <td>11</td>\n",
       "      <td>4</td>\n",
       "      <td>82</td>\n",
       "      <td>328</td>\n",
       "      <td>4.00</td>\n",
       "      <td>2</td>\n",
       "      <td>...</td>\n",
       "      <td>16</td>\n",
       "      <td>138</td>\n",
       "      <td>8.63</td>\n",
       "      <td>0</td>\n",
       "      <td>2</td>\n",
       "      <td>59.0</td>\n",
       "      <td>74.6</td>\n",
       "      <td>102</td>\n",
       "      <td>118</td>\n",
       "      <td>12.63</td>\n",
       "    </tr>\n",
       "    <tr>\n",
       "      <th>2011</th>\n",
       "      <td>Benny Snell Jr.</td>\n",
       "      <td>2020</td>\n",
       "      <td>RB</td>\n",
       "      <td>22</td>\n",
       "      <td>16</td>\n",
       "      <td>3</td>\n",
       "      <td>111</td>\n",
       "      <td>368</td>\n",
       "      <td>3.32</td>\n",
       "      <td>4</td>\n",
       "      <td>...</td>\n",
       "      <td>10</td>\n",
       "      <td>61</td>\n",
       "      <td>6.10</td>\n",
       "      <td>0</td>\n",
       "      <td>4</td>\n",
       "      <td>65.0</td>\n",
       "      <td>74.9</td>\n",
       "      <td>125</td>\n",
       "      <td>135</td>\n",
       "      <td>9.42</td>\n",
       "    </tr>\n",
       "    <tr>\n",
       "      <th>2009</th>\n",
       "      <td>Kalen Ballage</td>\n",
       "      <td>2020</td>\n",
       "      <td>RB</td>\n",
       "      <td>25</td>\n",
       "      <td>11</td>\n",
       "      <td>2</td>\n",
       "      <td>91</td>\n",
       "      <td>303</td>\n",
       "      <td>3.33</td>\n",
       "      <td>3</td>\n",
       "      <td>...</td>\n",
       "      <td>29</td>\n",
       "      <td>166</td>\n",
       "      <td>5.72</td>\n",
       "      <td>0</td>\n",
       "      <td>3</td>\n",
       "      <td>65.0</td>\n",
       "      <td>93.9</td>\n",
       "      <td>128</td>\n",
       "      <td>157</td>\n",
       "      <td>9.05</td>\n",
       "    </tr>\n",
       "    <tr>\n",
       "      <th>2007</th>\n",
       "      <td>James White</td>\n",
       "      <td>2020</td>\n",
       "      <td>RB</td>\n",
       "      <td>28</td>\n",
       "      <td>14</td>\n",
       "      <td>0</td>\n",
       "      <td>35</td>\n",
       "      <td>121</td>\n",
       "      <td>3.46</td>\n",
       "      <td>2</td>\n",
       "      <td>...</td>\n",
       "      <td>49</td>\n",
       "      <td>375</td>\n",
       "      <td>7.65</td>\n",
       "      <td>1</td>\n",
       "      <td>3</td>\n",
       "      <td>68.0</td>\n",
       "      <td>116.6</td>\n",
       "      <td>97</td>\n",
       "      <td>146</td>\n",
       "      <td>11.11</td>\n",
       "    </tr>\n",
       "  </tbody>\n",
       "</table>\n",
       "<p>5 rows × 21 columns</p>\n",
       "</div>"
      ],
      "text/plain": [
       "               Player  Year FantPos  Age   G  GS  Rush_Att  Rush_Yds_G    Y/A  \\\n",
       "2436   Adrian Killins  2020      RB   22   1   0         1         -12 -12.00   \n",
       "2026     Le'Veon Bell  2020      RB   28  11   4        82         328   4.00   \n",
       "2011  Benny Snell Jr.  2020      RB   22  16   3       111         368   3.32   \n",
       "2009    Kalen Ballage  2020      RB   25  11   2        91         303   3.33   \n",
       "2007      James White  2020      RB   28  14   0        35         121   3.46   \n",
       "\n",
       "      Rush_TD  ...  Rec  Rec_Yds   Y/R  Rec_TD  Tot_TD  FantPt    PPR  \\\n",
       "2436        0  ...    1        2  2.00       0       0    -1.0    0.0   \n",
       "2026        2  ...   16      138  8.63       0       2    59.0   74.6   \n",
       "2011        4  ...   10       61  6.10       0       4    65.0   74.9   \n",
       "2009        3  ...   29      166  5.72       0       3    65.0   93.9   \n",
       "2007        2  ...   49      375  7.65       1       3    68.0  116.6   \n",
       "\n",
       "      Utilization1  Utilization2  Efficiency  \n",
       "2436             2             3      -10.00  \n",
       "2026           102           118       12.63  \n",
       "2011           125           135        9.42  \n",
       "2009           128           157        9.05  \n",
       "2007            97           146       11.11  \n",
       "\n",
       "[5 rows x 21 columns]"
      ]
     },
     "execution_count": 7,
     "metadata": {},
     "output_type": "execute_result"
    }
   ],
   "source": [
    "RPSData.head()"
   ]
  },
  {
   "cell_type": "markdown",
   "metadata": {},
   "source": [
    "# Exploratory Data Analysis"
   ]
  },
  {
   "cell_type": "markdown",
   "metadata": {},
   "source": [
    "### Relationship between a running back's utilization and Fantasy PPR Points."
   ]
  },
  {
   "cell_type": "code",
   "execution_count": 9,
   "metadata": {},
   "outputs": [
    {
     "data": {
      "text/plain": [
       "Text(0.5, 1.0, 'Utilization1 vs. PPR')"
      ]
     },
     "execution_count": 9,
     "metadata": {},
     "output_type": "execute_result"
    },
    {
     "data": {
      "image/png": "[encoded data removed]",
      "text/plain": [
       "<Figure size 432x288 with 1 Axes>"
      ]
     },
     "metadata": {},
     "output_type": "display_data"
    }
   ],
   "source": [
    "sns.set_style('whitegrid')\n",
    "#sns.set(color_codes = True)\n",
    "sns.regplot(x = 'Utilization1', y = 'PPR', data = RPSData, scatter_kws={'s':14})\n",
    "plt.title('Utilization1 vs. PPR')"
   ]
  },
  {
   "cell_type": "code",
   "execution_count": 10,
   "metadata": {},
   "outputs": [
    {
     "name": "stdout",
     "output_type": "stream",
     "text": [
      "                            OLS Regression Results                            \n",
      "==============================================================================\n",
      "Dep. Variable:                    PPR   R-squared:                       0.912\n",
      "Model:                            OLS   Adj. R-squared:                  0.912\n",
      "Method:                 Least Squares   F-statistic:                     6426.\n",
      "Date:                Wed, 14 Apr 2021   Prob (F-statistic):               0.00\n",
      "Time:                        11:55:40   Log-Likelihood:                -2870.2\n",
      "No. Observations:                 619   AIC:                             5744.\n",
      "Df Residuals:                     617   BIC:                             5753.\n",
      "Df Model:                           1                                         \n",
      "Covariance Type:            nonrobust                                         \n",
      "================================================================================\n",
      "                   coef    std err          t      P>|t|      [0.025      0.975]\n",
      "--------------------------------------------------------------------------------\n",
      "const            0.4081      1.402      0.291      0.771      -2.345       3.161\n",
      "Utilization1     0.8220      0.010     80.160      0.000       0.802       0.842\n",
      "==============================================================================\n",
      "Omnibus:                      182.731   Durbin-Watson:                   1.707\n",
      "Prob(Omnibus):                  0.000   Jarque-Bera (JB):             1051.369\n",
      "Skew:                           1.183   Prob(JB):                    4.99e-229\n",
      "Kurtosis:                       8.930   Cond. No.                         191.\n",
      "==============================================================================\n",
      "\n",
      "Notes:\n",
      "[1] Standard Errors assume that the covariance matrix of the errors is correctly specified.\n"
     ]
    }
   ],
   "source": [
    "X = RPSData['Utilization1']\n",
    "y = RPSData['PPR']\n",
    "X2 = sm.add_constant(X)\n",
    "est = sm.OLS(y, X2)\n",
    "est2 = est.fit()\n",
    "print(est2.summary())"
   ]
  },
  {
   "cell_type": "code",
   "execution_count": 11,
   "metadata": {},
   "outputs": [
    {
     "data": {
      "text/plain": [
       "Text(0.5, 1.0, 'Utilization2 vs PPR')"
      ]
     },
     "execution_count": 11,
     "metadata": {},
     "output_type": "execute_result"
    },
    {
     "data": {
      "image/png": "[encoded data removed]",
      "text/plain": [
       "<Figure size 432x288 with 1 Axes>"
      ]
     },
     "metadata": {},
     "output_type": "display_data"
    }
   ],
   "source": [
    "sns.set_style('whitegrid')\n",
    "#sns.set_style('ticks')\n",
    "\n",
    "sns.regplot(x = 'Utilization2', y = 'PPR', data = RPSData, scatter_kws={'s':14})\n",
    "plt.title('Utilization2 vs PPR')\n"
   ]
  },
  {
   "cell_type": "code",
   "execution_count": 12,
   "metadata": {},
   "outputs": [
    {
     "name": "stdout",
     "output_type": "stream",
     "text": [
      "                            OLS Regression Results                            \n",
      "==============================================================================\n",
      "Dep. Variable:                    PPR   R-squared:                       0.945\n",
      "Model:                            OLS   Adj. R-squared:                  0.945\n",
      "Method:                 Least Squares   F-statistic:                 1.057e+04\n",
      "Date:                Wed, 14 Apr 2021   Prob (F-statistic):               0.00\n",
      "Time:                        11:55:41   Log-Likelihood:                -2726.9\n",
      "No. Observations:                 619   AIC:                             5458.\n",
      "Df Residuals:                     617   BIC:                             5467.\n",
      "Df Model:                           1                                         \n",
      "Covariance Type:            nonrobust                                         \n",
      "================================================================================\n",
      "                   coef    std err          t      P>|t|      [0.025      0.975]\n",
      "--------------------------------------------------------------------------------\n",
      "const           -2.4528      1.122     -2.185      0.029      -4.657      -0.249\n",
      "Utilization2     0.7215      0.007    102.818      0.000       0.708       0.735\n",
      "==============================================================================\n",
      "Omnibus:                      147.733   Durbin-Watson:                   1.586\n",
      "Prob(Omnibus):                  0.000   Jarque-Bera (JB):              814.952\n",
      "Skew:                           0.938   Prob(JB):                    1.09e-177\n",
      "Kurtosis:                       8.299   Cond. No.                         225.\n",
      "==============================================================================\n",
      "\n",
      "Notes:\n",
      "[1] Standard Errors assume that the covariance matrix of the errors is correctly specified.\n"
     ]
    }
   ],
   "source": [
    "X = RPSData['Utilization2']\n",
    "y = RPSData['PPR']\n",
    "X2 = sm.add_constant(X)\n",
    "est = sm.OLS(y, X2)\n",
    "est2 = est.fit()\n",
    "print(est2.summary())"
   ]
  },
  {
   "cell_type": "markdown",
   "metadata": {},
   "source": [
    "__The R-Squared value above, indicates a player's utilization will be a strong predictive variable for determining Fantasy points.__"
   ]
  },
  {
   "cell_type": "markdown",
   "metadata": {},
   "source": [
    "### Relationship between a running back's Efficiency and Fantasy PPR Points."
   ]
  },
  {
   "cell_type": "code",
   "execution_count": 13,
   "metadata": {},
   "outputs": [
    {
     "data": {
      "text/plain": [
       "Text(0.5, 1.0, 'Efficiency vs PPR')"
      ]
     },
     "execution_count": 13,
     "metadata": {},
     "output_type": "execute_result"
    },
    {
     "data": {
      "image/png": "[encoded data removed]",
      "text/plain": [
       "<Figure size 432x288 with 1 Axes>"
      ]
     },
     "metadata": {},
     "output_type": "display_data"
    }
   ],
   "source": [
    "sns.regplot(x = 'Efficiency', y = 'PPR', data = RPSData, scatter_kws={'s':14})\n",
    "plt.title('Efficiency vs PPR')"
   ]
  },
  {
   "cell_type": "code",
   "execution_count": 14,
   "metadata": {},
   "outputs": [
    {
     "name": "stdout",
     "output_type": "stream",
     "text": [
      "                            OLS Regression Results                            \n",
      "==============================================================================\n",
      "Dep. Variable:                    PPR   R-squared:                       0.120\n",
      "Model:                            OLS   Adj. R-squared:                  0.118\n",
      "Method:                 Least Squares   F-statistic:                     84.06\n",
      "Date:                Wed, 14 Apr 2021   Prob (F-statistic):           7.08e-19\n",
      "Time:                        11:55:41   Log-Likelihood:                -3584.3\n",
      "No. Observations:                 619   AIC:                             7173.\n",
      "Df Residuals:                     617   BIC:                             7181.\n",
      "Df Model:                           1                                         \n",
      "Covariance Type:            nonrobust                                         \n",
      "==============================================================================\n",
      "                 coef    std err          t      P>|t|      [0.025      0.975]\n",
      "------------------------------------------------------------------------------\n",
      "const          6.7925      8.468      0.802      0.423      -9.837      23.422\n",
      "Efficiency     6.7502      0.736      9.168      0.000       5.304       8.196\n",
      "==============================================================================\n",
      "Omnibus:                      127.701   Durbin-Watson:                   0.444\n",
      "Prob(Omnibus):                  0.000   Jarque-Bera (JB):              241.730\n",
      "Skew:                           1.181   Prob(JB):                     3.23e-53\n",
      "Kurtosis:                       4.947   Cond. No.                         30.8\n",
      "==============================================================================\n",
      "\n",
      "Notes:\n",
      "[1] Standard Errors assume that the covariance matrix of the errors is correctly specified.\n"
     ]
    }
   ],
   "source": [
    "X = RPSData['Efficiency']\n",
    "y = RPSData['PPR']\n",
    "X2 = sm.add_constant(X)\n",
    "est = sm.OLS(y, X2)\n",
    "est2 = est.fit()\n",
    "print(est2.summary())"
   ]
  },
  {
   "cell_type": "code",
   "execution_count": 15,
   "metadata": {},
   "outputs": [
    {
     "data": {
      "text/plain": [
       "Text(0.5, 1.0, 'Rushing Yards/Attempt vs PPR')"
      ]
     },
     "execution_count": 15,
     "metadata": {},
     "output_type": "execute_result"
    },
    {
     "data": {
      "image/png": "[encoded data removed]",
      "text/plain": [
       "<Figure size 432x288 with 1 Axes>"
      ]
     },
     "metadata": {},
     "output_type": "display_data"
    }
   ],
   "source": [
    "sns.regplot(x = 'Y/A', y = 'PPR', data = RPSData, scatter_kws={'s':14})\n",
    "plt.title('Rushing Yards/Attempt vs PPR')"
   ]
  },
  {
   "cell_type": "code",
   "execution_count": 16,
   "metadata": {},
   "outputs": [
    {
     "name": "stdout",
     "output_type": "stream",
     "text": [
      "                            OLS Regression Results                            \n",
      "==============================================================================\n",
      "Dep. Variable:                    PPR   R-squared:                       0.117\n",
      "Model:                            OLS   Adj. R-squared:                  0.116\n",
      "Method:                 Least Squares   F-statistic:                     81.70\n",
      "Date:                Wed, 14 Apr 2021   Prob (F-statistic):           2.02e-18\n",
      "Time:                        11:55:41   Log-Likelihood:                -3585.3\n",
      "No. Observations:                 619   AIC:                             7175.\n",
      "Df Residuals:                     617   BIC:                             7183.\n",
      "Df Model:                           1                                         \n",
      "Covariance Type:            nonrobust                                         \n",
      "==============================================================================\n",
      "                 coef    std err          t      P>|t|      [0.025      0.975]\n",
      "------------------------------------------------------------------------------\n",
      "const         19.8015      7.258      2.728      0.007       5.548      34.055\n",
      "Y/A           16.2858      1.802      9.039      0.000      12.747      19.824\n",
      "==============================================================================\n",
      "Omnibus:                      126.869   Durbin-Watson:                   0.465\n",
      "Prob(Omnibus):                  0.000   Jarque-Bera (JB):              233.371\n",
      "Skew:                           1.191   Prob(JB):                     2.11e-51\n",
      "Kurtosis:                       4.837   Cond. No.                         9.62\n",
      "==============================================================================\n",
      "\n",
      "Notes:\n",
      "[1] Standard Errors assume that the covariance matrix of the errors is correctly specified.\n"
     ]
    }
   ],
   "source": [
    "X = RPSData['Y/A']\n",
    "y = RPSData['PPR']\n",
    "X2 = sm.add_constant(X)\n",
    "est = sm.OLS(y, X2)\n",
    "est2 = est.fit()\n",
    "print(est2.summary())"
   ]
  },
  {
   "cell_type": "markdown",
   "metadata": {},
   "source": []
  },
  {
   "cell_type": "code",
   "execution_count": 17,
   "metadata": {},
   "outputs": [
    {
     "data": {
      "text/plain": [
       "Text(0.5, 1.0, 'Receiving Yards/Reception vs PPR')"
      ]
     },
     "execution_count": 17,
     "metadata": {},
     "output_type": "execute_result"
    },
    {
     "data": {
      "image/png": "[encoded data removed]",
      "text/plain": [
       "<Figure size 432x288 with 1 Axes>"
      ]
     },
     "metadata": {},
     "output_type": "display_data"
    }
   ],
   "source": [
    "sns.regplot(x = 'Y/R', y = 'PPR', data = RPSData, scatter_kws={'s':14})\n",
    "plt.title('Receiving Yards/Reception vs PPR')"
   ]
  },
  {
   "cell_type": "code",
   "execution_count": 18,
   "metadata": {},
   "outputs": [
    {
     "name": "stdout",
     "output_type": "stream",
     "text": [
      "                            OLS Regression Results                            \n",
      "==============================================================================\n",
      "Dep. Variable:                    PPR   R-squared:                       0.056\n",
      "Model:                            OLS   Adj. R-squared:                  0.055\n",
      "Method:                 Least Squares   F-statistic:                     36.65\n",
      "Date:                Wed, 14 Apr 2021   Prob (F-statistic):           2.46e-09\n",
      "Time:                        11:55:42   Log-Likelihood:                -3605.9\n",
      "No. Observations:                 619   AIC:                             7216.\n",
      "Df Residuals:                     617   BIC:                             7225.\n",
      "Df Model:                           1                                         \n",
      "Covariance Type:            nonrobust                                         \n",
      "==============================================================================\n",
      "                 coef    std err          t      P>|t|      [0.025      0.975]\n",
      "------------------------------------------------------------------------------\n",
      "const         41.4364      6.988      5.930      0.000      27.714      55.159\n",
      "Y/R            5.2978      0.875      6.054      0.000       3.579       7.016\n",
      "==============================================================================\n",
      "Omnibus:                      138.669   Durbin-Watson:                   0.355\n",
      "Prob(Omnibus):                  0.000   Jarque-Bera (JB):              258.844\n",
      "Skew:                           1.294   Prob(JB):                     6.21e-57\n",
      "Kurtosis:                       4.827   Cond. No.                         17.1\n",
      "==============================================================================\n",
      "\n",
      "Notes:\n",
      "[1] Standard Errors assume that the covariance matrix of the errors is correctly specified.\n"
     ]
    }
   ],
   "source": [
    "X = RPSData['Y/R']\n",
    "y = RPSData['PPR']\n",
    "X2 = sm.add_constant(X)\n",
    "est = sm.OLS(y, X2)\n",
    "est2 = est.fit()\n",
    "print(est2.summary())"
   ]
  },
  {
   "cell_type": "markdown",
   "metadata": {},
   "source": [
    "__The R-Squared values above, indicate player efficiency, rushing yards per attempt and receiving yards per reception would not be good predictive variables for determining if a running back will score many Fantasy points.__"
   ]
  },
  {
   "cell_type": "markdown",
   "metadata": {},
   "source": [
    "### Age Distribution of NFL Running Backs"
   ]
  },
  {
   "cell_type": "code",
   "execution_count": 19,
   "metadata": {},
   "outputs": [
    {
     "data": {
      "text/plain": [
       "Text(0.5, 1.0, 'Age Distribution of Running Backs')"
      ]
     },
     "execution_count": 19,
     "metadata": {},
     "output_type": "execute_result"
    },
    {
     "data": {
      "image/png": "[encoded data removed]",
      "text/plain": [
       "<Figure size 432x288 with 1 Axes>"
      ]
     },
     "metadata": {},
     "output_type": "display_data"
    }
   ],
   "source": [
    "#RPSData.plot(x = 'Age', y = 'FantPt', kind = 'bar')\n",
    "\n",
    "plt.hist(RPSData['Age'], bins=[20,21,22,23,24,25,26,27,28,29,30], edgecolor = 'black')\n",
    "plt.xlabel ('Age')\n",
    "plt.ylabel ('Number of Running Backs')\n",
    "plt.title ('Age Distribution of Running Backs')"
   ]
  },
  {
   "cell_type": "markdown",
   "metadata": {},
   "source": [
    "### Age Distribution of Top 15 NFL Running Backs Based on Fantasy PPR Points."
   ]
  },
  {
   "cell_type": "code",
   "execution_count": 20,
   "metadata": {},
   "outputs": [],
   "source": [
    "#import ProFootball Reference Player Stats\n",
    "PeakAgeDf = pd.read_csv(r\"C:\\Users\\Hist_Top15RB.csv\")"
   ]
  },
  {
   "cell_type": "code",
   "execution_count": 21,
   "metadata": {},
   "outputs": [
    {
     "data": {
      "text/plain": [
       "Text(0.5, 1.0, 'Age Distribution of Top 15 Running Backs from 2017-2019 (PPR)')"
      ]
     },
     "execution_count": 21,
     "metadata": {},
     "output_type": "execute_result"
    },
    {
     "data": {
      "image/png": "[encoded data removed]",
      "text/plain": [
       "<Figure size 1008x576 with 1 Axes>"
      ]
     },
     "metadata": {},
     "output_type": "display_data"
    }
   ],
   "source": [
    "plt.figure(figsize = (14,8))\n",
    "plt.hist(PeakAgeDf['Age'], bins=[20,21,22,23,24,25,26,27,28,29,30], edgecolor = 'black')\n",
    "plt.xlabel ('Age at Peak PPR Points')\n",
    "plt.ylabel ('Number of Running Backs')\n",
    "plt.title ('Age Distribution of Top 15 Running Backs from 2017-2019 (PPR)')"
   ]
  },
  {
   "cell_type": "markdown",
   "metadata": {},
   "source": [
    "__The top 15 Running Backs scored the most fantasy PPR points between the ages of 23-25 and start to decline in performance beginning at age 26.__"
   ]
  },
  {
   "cell_type": "markdown",
   "metadata": {},
   "source": [
    "# Supervised Model"
   ]
  },
  {
   "cell_type": "markdown",
   "metadata": {},
   "source": [
    "### Linear Regression"
   ]
  },
  {
   "cell_type": "code",
   "execution_count": 22,
   "metadata": {},
   "outputs": [],
   "source": [
    "#Split data into training set based on 2017 to 2019 data and testing set using 2020 data.\n",
    "testData = RPSData.iloc[:163,:]\n",
    "trainData = RPSData.iloc[164:,:]\n"
   ]
  },
  {
   "cell_type": "code",
   "execution_count": 23,
   "metadata": {},
   "outputs": [],
   "source": [
    "# Define variables\n",
    "x_train = trainData['Utilization2']\n",
    "y_train = trainData['PPR']\n",
    "x_test = testData['Utilization2']\n",
    "y_test = testData['PPR']\n",
    "target = testData['PPR']"
   ]
  },
  {
   "cell_type": "code",
   "execution_count": 24,
   "metadata": {},
   "outputs": [
    {
     "name": "stdout",
     "output_type": "stream",
     "text": [
      "(455,) (163,) (455,) (163,)\n"
     ]
    }
   ],
   "source": [
    "print(x_train.shape, x_test.shape,y_train.shape,y_test.shape)"
   ]
  },
  {
   "cell_type": "code",
   "execution_count": 25,
   "metadata": {},
   "outputs": [
    {
     "data": {
      "text/plain": [
       "1723    122\n",
       "1722     92\n",
       "1721     84\n",
       "1720    118\n",
       "1719     93\n",
       "       ... \n",
       "101      18\n",
       "100      22\n",
       "99       28\n",
       "98       56\n",
       "0       430\n",
       "Name: Utilization2, Length: 455, dtype: int64"
      ]
     },
     "execution_count": 25,
     "metadata": {},
     "output_type": "execute_result"
    }
   ],
   "source": [
    "x_train"
   ]
  },
  {
   "cell_type": "code",
   "execution_count": 26,
   "metadata": {},
   "outputs": [],
   "source": [
    "# Choose model\n",
    "model = LinearRegression()"
   ]
  },
  {
   "cell_type": "code",
   "execution_count": 27,
   "metadata": {},
   "outputs": [
    {
     "data": {
      "text/plain": [
       "LinearRegression()"
      ]
     },
     "execution_count": 27,
     "metadata": {},
     "output_type": "execute_result"
    }
   ],
   "source": [
    "#fit model\n",
    "model.fit(x_train.values.reshape(-1,1) ,y_train.values.reshape(-1,1))"
   ]
  },
  {
   "cell_type": "code",
   "execution_count": 28,
   "metadata": {},
   "outputs": [],
   "source": [
    "# Predict\n",
    "PPR_Pred = model.predict(x_test.values.reshape(-1,1))"
   ]
  },
  {
   "cell_type": "code",
   "execution_count": 29,
   "metadata": {},
   "outputs": [
    {
     "data": {
      "text/plain": [
       "2436      0.0\n",
       "2026     74.6\n",
       "2011     74.9\n",
       "2009     93.9\n",
       "2007    116.6\n",
       "        ...  \n",
       "2203     16.2\n",
       "2200     20.2\n",
       "2197     26.1\n",
       "2211     28.2\n",
       "2195     16.7\n",
       "Name: PPR, Length: 163, dtype: float64"
      ]
     },
     "execution_count": 29,
     "metadata": {},
     "output_type": "execute_result"
    }
   ],
   "source": [
    "y_test"
   ]
  },
  {
   "cell_type": "code",
   "execution_count": 30,
   "metadata": {},
   "outputs": [
    {
     "data": {
      "text/plain": [
       "0.9551719317710933"
      ]
     },
     "execution_count": 30,
     "metadata": {},
     "output_type": "execute_result"
    }
   ],
   "source": [
    "#Score the model\n",
    "model.score(x_test.values.reshape(-1,1),y_test.values.reshape(-1,1))"
   ]
  },
  {
   "cell_type": "code",
   "execution_count": 31,
   "metadata": {},
   "outputs": [
    {
     "data": {
      "text/html": [
       "<div>\n",
       "<style scoped>\n",
       "    .dataframe tbody tr th:only-of-type {\n",
       "        vertical-align: middle;\n",
       "    }\n",
       "\n",
       "    .dataframe tbody tr th {\n",
       "        vertical-align: top;\n",
       "    }\n",
       "\n",
       "    .dataframe thead th {\n",
       "        text-align: right;\n",
       "    }\n",
       "</style>\n",
       "<table border=\"1\" class=\"dataframe\">\n",
       "  <thead>\n",
       "    <tr style=\"text-align: right;\">\n",
       "      <th></th>\n",
       "      <th>Actual PPR Points</th>\n",
       "      <th>Predicted PPR Points</th>\n",
       "    </tr>\n",
       "  </thead>\n",
       "  <tbody>\n",
       "    <tr>\n",
       "      <th>0</th>\n",
       "      <td>0.0</td>\n",
       "      <td>-0.248603</td>\n",
       "    </tr>\n",
       "    <tr>\n",
       "      <th>1</th>\n",
       "      <td>74.6</td>\n",
       "      <td>82.109672</td>\n",
       "    </tr>\n",
       "    <tr>\n",
       "      <th>2</th>\n",
       "      <td>74.9</td>\n",
       "      <td>94.284373</td>\n",
       "    </tr>\n",
       "    <tr>\n",
       "      <th>3</th>\n",
       "      <td>93.9</td>\n",
       "      <td>110.039869</td>\n",
       "    </tr>\n",
       "    <tr>\n",
       "      <th>4</th>\n",
       "      <td>116.6</td>\n",
       "      <td>102.162121</td>\n",
       "    </tr>\n",
       "  </tbody>\n",
       "</table>\n",
       "</div>"
      ],
      "text/plain": [
       "   Actual PPR Points  Predicted PPR Points\n",
       "0                0.0             -0.248603\n",
       "1               74.6             82.109672\n",
       "2               74.9             94.284373\n",
       "3               93.9            110.039869\n",
       "4              116.6            102.162121"
      ]
     },
     "execution_count": 31,
     "metadata": {},
     "output_type": "execute_result"
    }
   ],
   "source": [
    "df_lreg = pd.DataFrame({'Actual PPR Points': y_test.values.flatten(), 'Predicted PPR Points': PPR_Pred.flatten()})\n",
    "df_lreg.head()"
   ]
  },
  {
   "cell_type": "code",
   "execution_count": 32,
   "metadata": {},
   "outputs": [],
   "source": [
    "#Join results with the original data frame to rank the best players based on the model.\n",
    "df_og_results = pd.concat([RPSData.reset_index(drop=True), pd.DataFrame(df_lreg)], axis = 1)\n",
    "df_og_results.columns.values[-2: ] = ['Actual PPR Points', 'Predicted PPR Points']"
   ]
  },
  {
   "cell_type": "code",
   "execution_count": 33,
   "metadata": {},
   "outputs": [
    {
     "data": {
      "text/html": [
       "<div>\n",
       "<style scoped>\n",
       "    .dataframe tbody tr th:only-of-type {\n",
       "        vertical-align: middle;\n",
       "    }\n",
       "\n",
       "    .dataframe tbody tr th {\n",
       "        vertical-align: top;\n",
       "    }\n",
       "\n",
       "    .dataframe thead th {\n",
       "        text-align: right;\n",
       "    }\n",
       "</style>\n",
       "<table border=\"1\" class=\"dataframe\">\n",
       "  <thead>\n",
       "    <tr style=\"text-align: right;\">\n",
       "      <th></th>\n",
       "      <th>Player</th>\n",
       "      <th>Year</th>\n",
       "      <th>FantPos</th>\n",
       "      <th>Age</th>\n",
       "      <th>G</th>\n",
       "      <th>GS</th>\n",
       "      <th>Rush_Att</th>\n",
       "      <th>Rush_Yds_G</th>\n",
       "      <th>Y/A</th>\n",
       "      <th>Rush_TD</th>\n",
       "      <th>...</th>\n",
       "      <th>Y/R</th>\n",
       "      <th>Rec_TD</th>\n",
       "      <th>Tot_TD</th>\n",
       "      <th>FantPt</th>\n",
       "      <th>PPR</th>\n",
       "      <th>Utilization1</th>\n",
       "      <th>Utilization2</th>\n",
       "      <th>Efficiency</th>\n",
       "      <th>Actual PPR Points</th>\n",
       "      <th>Predicted PPR Points</th>\n",
       "    </tr>\n",
       "  </thead>\n",
       "  <tbody>\n",
       "    <tr>\n",
       "      <th>0</th>\n",
       "      <td>Adrian Killins</td>\n",
       "      <td>2020</td>\n",
       "      <td>RB</td>\n",
       "      <td>22</td>\n",
       "      <td>1</td>\n",
       "      <td>0</td>\n",
       "      <td>1</td>\n",
       "      <td>-12</td>\n",
       "      <td>-12.00</td>\n",
       "      <td>0</td>\n",
       "      <td>...</td>\n",
       "      <td>2.00</td>\n",
       "      <td>0</td>\n",
       "      <td>0</td>\n",
       "      <td>-1.0</td>\n",
       "      <td>0.0</td>\n",
       "      <td>2</td>\n",
       "      <td>3</td>\n",
       "      <td>-10.00</td>\n",
       "      <td>0.0</td>\n",
       "      <td>-0.248603</td>\n",
       "    </tr>\n",
       "    <tr>\n",
       "      <th>1</th>\n",
       "      <td>Le'Veon Bell</td>\n",
       "      <td>2020</td>\n",
       "      <td>RB</td>\n",
       "      <td>28</td>\n",
       "      <td>11</td>\n",
       "      <td>4</td>\n",
       "      <td>82</td>\n",
       "      <td>328</td>\n",
       "      <td>4.00</td>\n",
       "      <td>2</td>\n",
       "      <td>...</td>\n",
       "      <td>8.63</td>\n",
       "      <td>0</td>\n",
       "      <td>2</td>\n",
       "      <td>59.0</td>\n",
       "      <td>74.6</td>\n",
       "      <td>102</td>\n",
       "      <td>118</td>\n",
       "      <td>12.63</td>\n",
       "      <td>74.6</td>\n",
       "      <td>82.109672</td>\n",
       "    </tr>\n",
       "    <tr>\n",
       "      <th>2</th>\n",
       "      <td>Benny Snell Jr.</td>\n",
       "      <td>2020</td>\n",
       "      <td>RB</td>\n",
       "      <td>22</td>\n",
       "      <td>16</td>\n",
       "      <td>3</td>\n",
       "      <td>111</td>\n",
       "      <td>368</td>\n",
       "      <td>3.32</td>\n",
       "      <td>4</td>\n",
       "      <td>...</td>\n",
       "      <td>6.10</td>\n",
       "      <td>0</td>\n",
       "      <td>4</td>\n",
       "      <td>65.0</td>\n",
       "      <td>74.9</td>\n",
       "      <td>125</td>\n",
       "      <td>135</td>\n",
       "      <td>9.42</td>\n",
       "      <td>74.9</td>\n",
       "      <td>94.284373</td>\n",
       "    </tr>\n",
       "    <tr>\n",
       "      <th>3</th>\n",
       "      <td>Kalen Ballage</td>\n",
       "      <td>2020</td>\n",
       "      <td>RB</td>\n",
       "      <td>25</td>\n",
       "      <td>11</td>\n",
       "      <td>2</td>\n",
       "      <td>91</td>\n",
       "      <td>303</td>\n",
       "      <td>3.33</td>\n",
       "      <td>3</td>\n",
       "      <td>...</td>\n",
       "      <td>5.72</td>\n",
       "      <td>0</td>\n",
       "      <td>3</td>\n",
       "      <td>65.0</td>\n",
       "      <td>93.9</td>\n",
       "      <td>128</td>\n",
       "      <td>157</td>\n",
       "      <td>9.05</td>\n",
       "      <td>93.9</td>\n",
       "      <td>110.039869</td>\n",
       "    </tr>\n",
       "    <tr>\n",
       "      <th>4</th>\n",
       "      <td>James White</td>\n",
       "      <td>2020</td>\n",
       "      <td>RB</td>\n",
       "      <td>28</td>\n",
       "      <td>14</td>\n",
       "      <td>0</td>\n",
       "      <td>35</td>\n",
       "      <td>121</td>\n",
       "      <td>3.46</td>\n",
       "      <td>2</td>\n",
       "      <td>...</td>\n",
       "      <td>7.65</td>\n",
       "      <td>1</td>\n",
       "      <td>3</td>\n",
       "      <td>68.0</td>\n",
       "      <td>116.6</td>\n",
       "      <td>97</td>\n",
       "      <td>146</td>\n",
       "      <td>11.11</td>\n",
       "      <td>116.6</td>\n",
       "      <td>102.162121</td>\n",
       "    </tr>\n",
       "  </tbody>\n",
       "</table>\n",
       "<p>5 rows × 23 columns</p>\n",
       "</div>"
      ],
      "text/plain": [
       "            Player  Year FantPos  Age   G  GS  Rush_Att  Rush_Yds_G    Y/A  \\\n",
       "0   Adrian Killins  2020      RB   22   1   0         1         -12 -12.00   \n",
       "1     Le'Veon Bell  2020      RB   28  11   4        82         328   4.00   \n",
       "2  Benny Snell Jr.  2020      RB   22  16   3       111         368   3.32   \n",
       "3    Kalen Ballage  2020      RB   25  11   2        91         303   3.33   \n",
       "4      James White  2020      RB   28  14   0        35         121   3.46   \n",
       "\n",
       "   Rush_TD  ...   Y/R  Rec_TD  Tot_TD  FantPt    PPR  Utilization1  \\\n",
       "0        0  ...  2.00       0       0    -1.0    0.0             2   \n",
       "1        2  ...  8.63       0       2    59.0   74.6           102   \n",
       "2        4  ...  6.10       0       4    65.0   74.9           125   \n",
       "3        3  ...  5.72       0       3    65.0   93.9           128   \n",
       "4        2  ...  7.65       1       3    68.0  116.6            97   \n",
       "\n",
       "   Utilization2  Efficiency  Actual PPR Points  Predicted PPR Points  \n",
       "0             3      -10.00                0.0             -0.248603  \n",
       "1           118       12.63               74.6             82.109672  \n",
       "2           135        9.42               74.9             94.284373  \n",
       "3           157        9.05               93.9            110.039869  \n",
       "4           146       11.11              116.6            102.162121  \n",
       "\n",
       "[5 rows x 23 columns]"
      ]
     },
     "execution_count": 33,
     "metadata": {},
     "output_type": "execute_result"
    }
   ],
   "source": [
    "df_og_results.head()"
   ]
  },
  {
   "cell_type": "code",
   "execution_count": 34,
   "metadata": {},
   "outputs": [],
   "source": [
    "#Export Results to excel to view individual player ranks\n",
    "df_og_results.to_excel (r'C:\\Users\\RB_LG_PredModel.xlsx', index = False, header = True)"
   ]
  },
  {
   "cell_type": "markdown",
   "metadata": {},
   "source": [
    "## Visualize Model Results"
   ]
  },
  {
   "cell_type": "code",
   "execution_count": 35,
   "metadata": {},
   "outputs": [
    {
     "data": {
      "image/png": "[encoded data removed]",
      "text/plain": [
       "<Figure size 864x576 with 1 Axes>"
      ]
     },
     "metadata": {},
     "output_type": "display_data"
    }
   ],
   "source": [
    "plt.figure(figsize = (12,8))\n",
    "plt.style.use('ggplot')\n",
    "plt.scatter(x_test, y_test,  color = 'cornflowerblue')\n",
    "plt.plot(x_test, PPR_Pred, color = 'red', linewidth = 1)\n",
    "\n",
    "#style the plo\n",
    "plt.title('2020 Running Back Predictive Model')\n",
    "plt.xlabel('Utilization2')\n",
    "plt.ylabel('PPR')\n",
    "plt.show()\n",
    "\n",
    "# def label_point(x, y, val, ax):\n",
    "#     a = pd.concat({'x': x, 'y': y, 'val': val}, axis=1)\n",
    "#     for i, point in a.iterrows():\n",
    "#         ax.text(point['x']+.02, point['y'], str(point['val']))\n",
    "\n",
    "# label_point(RPSData.Utilization2, RPSData.PPR, RPSData.Player, plt.gca())\n"
   ]
  },
  {
   "cell_type": "markdown",
   "metadata": {},
   "source": [
    "## Test the Performance of the Model"
   ]
  },
  {
   "cell_type": "code",
   "execution_count": 36,
   "metadata": {},
   "outputs": [
    {
     "data": {
      "text/plain": [
       "0.8244608882741962"
      ]
     },
     "execution_count": 36,
     "metadata": {},
     "output_type": "execute_result"
    }
   ],
   "source": [
    "metrics.r2_score(x_test,PPR_Pred)"
   ]
  },
  {
   "cell_type": "code",
   "execution_count": 37,
   "metadata": {},
   "outputs": [
    {
     "data": {
      "text/plain": [
       "16.70428262956451"
      ]
     },
     "execution_count": 37,
     "metadata": {},
     "output_type": "execute_result"
    }
   ],
   "source": [
    "metrics.mean_squared_error(y_test, PPR_Pred)\n",
    "np.sqrt(metrics.mean_squared_error(y_test, PPR_Pred))"
   ]
  },
  {
   "cell_type": "markdown",
   "metadata": {},
   "source": [
    "__The model is approximately 82 % accurate at predicting the PPR fantasy points NFL Running Backs will score in a season based on player utilization inputs.  The error margin is within approximately 17 fantasy PPR points.  This model does not account for negative statistics such as fumbles and fails to account for player injuries.  Therefore domain knowledge is crucial as injured players will have artificially low fantasy points (eg. Christian McCaffry's 2020 season).  While an exploratory analysis of the peak scoring age of the top 15 running backs was performed, it was not included in the model and should be taken into account when assessing an individual running back's performance in the upcoming season.__ "
   ]
  }
 ],
 "metadata": {
  "kernelspec": {
   "display_name": "Python 3",
   "language": "python",
   "name": "python3"
  },
  "language_info": {
   "codemirror_mode": {
    "name": "ipython",
    "version": 3
   },
   "file_extension": ".py",
   "mimetype": "text/x-python",
   "name": "python",
   "nbconvert_exporter": "python",
   "pygments_lexer": "ipython3",
   "version": "3.8.8"
  }
 },
 "nbformat": 4,
 "nbformat_minor": 4
}
