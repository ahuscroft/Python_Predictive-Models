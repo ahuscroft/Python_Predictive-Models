{
 "cells": [
  {
   "cell_type": "code",
   "execution_count": 1,
   "metadata": {},
   "outputs": [],
   "source": [
    "#import required packages to explore the data\n",
    "import numpy as np\n",
    "import pandas as pd\n",
    "import seaborn as sns\n",
    "import matplotlib.pyplot as plt\n",
    "%matplotlib inline\n",
    "from sklearn.cluster import KMeans\n",
    "from sklearn.preprocessing import StandardScaler\n",
    "from sklearn.decomposition import PCA\n",
    "import statsmodels.api as sm\n"
   ]
  },
  {
   "cell_type": "code",
   "execution_count": 2,
   "metadata": {},
   "outputs": [],
   "source": [
    "#import ProFootball Reference Player Stats\n",
    "RPSData = pd.read_csv(r\"C:\\Users\\PFR_HistoricalStats.csv\")\n",
    "                      #, index_col = 'Player')"
   ]
  },
  {
   "cell_type": "markdown",
   "metadata": {},
   "source": [
    "## View the Imported Source Data"
   ]
  },
  {
   "cell_type": "code",
   "execution_count": 3,
   "metadata": {},
   "outputs": [
    {
     "data": {
      "text/html": [
       "<div>\n",
       "<style scoped>\n",
       "    .dataframe tbody tr th:only-of-type {\n",
       "        vertical-align: middle;\n",
       "    }\n",
       "\n",
       "    .dataframe tbody tr th {\n",
       "        vertical-align: top;\n",
       "    }\n",
       "\n",
       "    .dataframe thead th {\n",
       "        text-align: right;\n",
       "    }\n",
       "</style>\n",
       "<table border=\"1\" class=\"dataframe\">\n",
       "  <thead>\n",
       "    <tr style=\"text-align: right;\">\n",
       "      <th></th>\n",
       "      <th>Player</th>\n",
       "      <th>Year</th>\n",
       "      <th>Tm</th>\n",
       "      <th>FantPos</th>\n",
       "      <th>Age</th>\n",
       "      <th>G</th>\n",
       "      <th>GS</th>\n",
       "      <th>Cmp</th>\n",
       "      <th>Pass_Att</th>\n",
       "      <th>Yds_G_Pass</th>\n",
       "      <th>...</th>\n",
       "      <th>Tot_TD</th>\n",
       "      <th>2PM</th>\n",
       "      <th>2PP</th>\n",
       "      <th>FantPt</th>\n",
       "      <th>PPR</th>\n",
       "      <th>DKPt</th>\n",
       "      <th>FDPt</th>\n",
       "      <th>VBD</th>\n",
       "      <th>PosRank</th>\n",
       "      <th>OvRank</th>\n",
       "    </tr>\n",
       "  </thead>\n",
       "  <tbody>\n",
       "    <tr>\n",
       "      <th>0</th>\n",
       "      <td>Todd Gurley</td>\n",
       "      <td>2017</td>\n",
       "      <td>LAR</td>\n",
       "      <td>RB</td>\n",
       "      <td>23</td>\n",
       "      <td>15</td>\n",
       "      <td>15</td>\n",
       "      <td>0</td>\n",
       "      <td>0</td>\n",
       "      <td>0</td>\n",
       "      <td>...</td>\n",
       "      <td>19</td>\n",
       "      <td>NaN</td>\n",
       "      <td>NaN</td>\n",
       "      <td>319.0</td>\n",
       "      <td>383.3</td>\n",
       "      <td>391.3</td>\n",
       "      <td>351.3</td>\n",
       "      <td>192.0</td>\n",
       "      <td>1</td>\n",
       "      <td>1.0</td>\n",
       "    </tr>\n",
       "    <tr>\n",
       "      <th>1</th>\n",
       "      <td>Le'Veon Bell</td>\n",
       "      <td>2017</td>\n",
       "      <td>PIT</td>\n",
       "      <td>RB</td>\n",
       "      <td>25</td>\n",
       "      <td>15</td>\n",
       "      <td>15</td>\n",
       "      <td>0</td>\n",
       "      <td>0</td>\n",
       "      <td>0</td>\n",
       "      <td>...</td>\n",
       "      <td>11</td>\n",
       "      <td>NaN</td>\n",
       "      <td>NaN</td>\n",
       "      <td>257.0</td>\n",
       "      <td>341.6</td>\n",
       "      <td>349.6</td>\n",
       "      <td>299.1</td>\n",
       "      <td>130.0</td>\n",
       "      <td>2</td>\n",
       "      <td>2.0</td>\n",
       "    </tr>\n",
       "    <tr>\n",
       "      <th>2</th>\n",
       "      <td>Alvin Kamara</td>\n",
       "      <td>2017</td>\n",
       "      <td>NOR</td>\n",
       "      <td>RB</td>\n",
       "      <td>22</td>\n",
       "      <td>16</td>\n",
       "      <td>3</td>\n",
       "      <td>0</td>\n",
       "      <td>0</td>\n",
       "      <td>0</td>\n",
       "      <td>...</td>\n",
       "      <td>14</td>\n",
       "      <td>1.0</td>\n",
       "      <td>NaN</td>\n",
       "      <td>239.0</td>\n",
       "      <td>320.4</td>\n",
       "      <td>327.4</td>\n",
       "      <td>279.9</td>\n",
       "      <td>112.0</td>\n",
       "      <td>4</td>\n",
       "      <td>4.0</td>\n",
       "    </tr>\n",
       "    <tr>\n",
       "      <th>3</th>\n",
       "      <td>Kareem Hunt</td>\n",
       "      <td>2017</td>\n",
       "      <td>KAN</td>\n",
       "      <td>RB</td>\n",
       "      <td>22</td>\n",
       "      <td>16</td>\n",
       "      <td>16</td>\n",
       "      <td>0</td>\n",
       "      <td>0</td>\n",
       "      <td>0</td>\n",
       "      <td>...</td>\n",
       "      <td>11</td>\n",
       "      <td>NaN</td>\n",
       "      <td>NaN</td>\n",
       "      <td>242.0</td>\n",
       "      <td>295.2</td>\n",
       "      <td>302.2</td>\n",
       "      <td>268.7</td>\n",
       "      <td>115.0</td>\n",
       "      <td>3</td>\n",
       "      <td>3.0</td>\n",
       "    </tr>\n",
       "    <tr>\n",
       "      <th>4</th>\n",
       "      <td>Melvin Gordon</td>\n",
       "      <td>2017</td>\n",
       "      <td>LAC</td>\n",
       "      <td>RB</td>\n",
       "      <td>24</td>\n",
       "      <td>16</td>\n",
       "      <td>16</td>\n",
       "      <td>0</td>\n",
       "      <td>0</td>\n",
       "      <td>0</td>\n",
       "      <td>...</td>\n",
       "      <td>12</td>\n",
       "      <td>NaN</td>\n",
       "      <td>NaN</td>\n",
       "      <td>230.0</td>\n",
       "      <td>288.1</td>\n",
       "      <td>294.1</td>\n",
       "      <td>259.1</td>\n",
       "      <td>103.0</td>\n",
       "      <td>5</td>\n",
       "      <td>5.0</td>\n",
       "    </tr>\n",
       "  </tbody>\n",
       "</table>\n",
       "<p>5 rows × 33 columns</p>\n",
       "</div>"
      ],
      "text/plain": [
       "          Player  Year   Tm FantPos  Age   G  GS  Cmp  Pass_Att  Yds_G_Pass  \\\n",
       "0    Todd Gurley  2017  LAR      RB   23  15  15    0         0           0   \n",
       "1   Le'Veon Bell  2017  PIT      RB   25  15  15    0         0           0   \n",
       "2  Alvin Kamara   2017  NOR      RB   22  16   3    0         0           0   \n",
       "3    Kareem Hunt  2017  KAN      RB   22  16  16    0         0           0   \n",
       "4  Melvin Gordon  2017  LAC      RB   24  16  16    0         0           0   \n",
       "\n",
       "   ...  Tot_TD  2PM  2PP  FantPt    PPR   DKPt   FDPt    VBD  PosRank  OvRank  \n",
       "0  ...      19  NaN  NaN   319.0  383.3  391.3  351.3  192.0        1     1.0  \n",
       "1  ...      11  NaN  NaN   257.0  341.6  349.6  299.1  130.0        2     2.0  \n",
       "2  ...      14  1.0  NaN   239.0  320.4  327.4  279.9  112.0        4     4.0  \n",
       "3  ...      11  NaN  NaN   242.0  295.2  302.2  268.7  115.0        3     3.0  \n",
       "4  ...      12  NaN  NaN   230.0  288.1  294.1  259.1  103.0        5     5.0  \n",
       "\n",
       "[5 rows x 33 columns]"
      ]
     },
     "execution_count": 3,
     "metadata": {},
     "output_type": "execute_result"
    }
   ],
   "source": [
    "RPSData.head()"
   ]
  },
  {
   "cell_type": "code",
   "execution_count": 4,
   "metadata": {},
   "outputs": [
    {
     "name": "stdout",
     "output_type": "stream",
     "text": [
      "<class 'pandas.core.frame.DataFrame'>\n",
      "RangeIndex: 2442 entries, 0 to 2441\n",
      "Data columns (total 33 columns):\n",
      " #   Column      Non-Null Count  Dtype  \n",
      "---  ------      --------------  -----  \n",
      " 0   Player      2442 non-null   object \n",
      " 1   Year        2442 non-null   int64  \n",
      " 2   Tm          2442 non-null   object \n",
      " 3   FantPos     2205 non-null   object \n",
      " 4   Age         2442 non-null   int64  \n",
      " 5   G           2442 non-null   int64  \n",
      " 6   GS          2442 non-null   int64  \n",
      " 7   Cmp         2442 non-null   int64  \n",
      " 8   Pass_Att    2442 non-null   int64  \n",
      " 9   Yds_G_Pass  2442 non-null   int64  \n",
      " 10  Pass_TD     2442 non-null   int64  \n",
      " 11  Int         2442 non-null   int64  \n",
      " 12  Rush_Att    2442 non-null   int64  \n",
      " 13  Rush_Yds_G  2442 non-null   int64  \n",
      " 14  Y/A         1297 non-null   float64\n",
      " 15  Rush_TD     2442 non-null   int64  \n",
      " 16  Tgt         2442 non-null   int64  \n",
      " 17  Rec         2442 non-null   int64  \n",
      " 18  Rec_Yds     2442 non-null   int64  \n",
      " 19  Y/R         1882 non-null   float64\n",
      " 20  Rec_TD      2442 non-null   int64  \n",
      " 21  Fmb         2442 non-null   int64  \n",
      " 22  FL          2442 non-null   int64  \n",
      " 23  Tot_TD      2442 non-null   int64  \n",
      " 24  2PM         193 non-null    float64\n",
      " 25  2PP         95 non-null     float64\n",
      " 26  FantPt      2161 non-null   float64\n",
      " 27  PPR         2208 non-null   float64\n",
      " 28  DKPt        2207 non-null   float64\n",
      " 29  FDPt        2208 non-null   float64\n",
      " 30  VBD         293 non-null    float64\n",
      " 31  PosRank     2442 non-null   int64  \n",
      " 32  OvRank      312 non-null    float64\n",
      "dtypes: float64(10), int64(20), object(3)\n",
      "memory usage: 629.7+ KB\n"
     ]
    }
   ],
   "source": [
    "RPSData.info()"
   ]
  },
  {
   "cell_type": "code",
   "execution_count": 5,
   "metadata": {},
   "outputs": [],
   "source": [
    "#Filter table to view only stats and fantasy points related to NFL Running Backs\n",
    "RPSData = RPSData.loc[RPSData['FantPos'] == 'RB', ['Player', 'Year', 'Rush_Att', 'Tgt', 'Rec', 'Tot_TD']]\n",
    "\n",
    "# RPSData = RPSData.drop ('FantPos', axis = 1)\n",
    "\n",
    "# RPSData['PPR'] = pd.to_numeric(RPSData['PPR'], errors = 'coerce')\n",
    "# RPSData['PPR'] = RPSData['PPR'].replace(np.nan,0)"
   ]
  },
  {
   "cell_type": "code",
   "execution_count": 6,
   "metadata": {},
   "outputs": [
    {
     "data": {
      "text/html": [
       "<div>\n",
       "<style scoped>\n",
       "    .dataframe tbody tr th:only-of-type {\n",
       "        vertical-align: middle;\n",
       "    }\n",
       "\n",
       "    .dataframe tbody tr th {\n",
       "        vertical-align: top;\n",
       "    }\n",
       "\n",
       "    .dataframe thead th {\n",
       "        text-align: right;\n",
       "    }\n",
       "</style>\n",
       "<table border=\"1\" class=\"dataframe\">\n",
       "  <thead>\n",
       "    <tr style=\"text-align: right;\">\n",
       "      <th></th>\n",
       "      <th>Player</th>\n",
       "      <th>Year</th>\n",
       "      <th>Rush_Att</th>\n",
       "      <th>Tgt</th>\n",
       "      <th>Rec</th>\n",
       "      <th>Tot_TD</th>\n",
       "    </tr>\n",
       "  </thead>\n",
       "  <tbody>\n",
       "    <tr>\n",
       "      <th>0</th>\n",
       "      <td>Todd Gurley</td>\n",
       "      <td>2017</td>\n",
       "      <td>279</td>\n",
       "      <td>87</td>\n",
       "      <td>64</td>\n",
       "      <td>19</td>\n",
       "    </tr>\n",
       "    <tr>\n",
       "      <th>1</th>\n",
       "      <td>Le'Veon Bell</td>\n",
       "      <td>2017</td>\n",
       "      <td>321</td>\n",
       "      <td>106</td>\n",
       "      <td>85</td>\n",
       "      <td>11</td>\n",
       "    </tr>\n",
       "    <tr>\n",
       "      <th>2</th>\n",
       "      <td>Alvin Kamara</td>\n",
       "      <td>2017</td>\n",
       "      <td>120</td>\n",
       "      <td>100</td>\n",
       "      <td>81</td>\n",
       "      <td>14</td>\n",
       "    </tr>\n",
       "    <tr>\n",
       "      <th>3</th>\n",
       "      <td>Kareem Hunt</td>\n",
       "      <td>2017</td>\n",
       "      <td>272</td>\n",
       "      <td>63</td>\n",
       "      <td>53</td>\n",
       "      <td>11</td>\n",
       "    </tr>\n",
       "    <tr>\n",
       "      <th>4</th>\n",
       "      <td>Melvin Gordon</td>\n",
       "      <td>2017</td>\n",
       "      <td>284</td>\n",
       "      <td>83</td>\n",
       "      <td>58</td>\n",
       "      <td>12</td>\n",
       "    </tr>\n",
       "  </tbody>\n",
       "</table>\n",
       "</div>"
      ],
      "text/plain": [
       "          Player  Year  Rush_Att  Tgt  Rec  Tot_TD\n",
       "0    Todd Gurley  2017       279   87   64      19\n",
       "1   Le'Veon Bell  2017       321  106   85      11\n",
       "2  Alvin Kamara   2017       120  100   81      14\n",
       "3    Kareem Hunt  2017       272   63   53      11\n",
       "4  Melvin Gordon  2017       284   83   58      12"
      ]
     },
     "execution_count": 6,
     "metadata": {},
     "output_type": "execute_result"
    }
   ],
   "source": [
    "RPSData.head()"
   ]
  },
  {
   "cell_type": "code",
   "execution_count": 7,
   "metadata": {},
   "outputs": [
    {
     "data": {
      "text/html": [
       "<div>\n",
       "<style scoped>\n",
       "    .dataframe tbody tr th:only-of-type {\n",
       "        vertical-align: middle;\n",
       "    }\n",
       "\n",
       "    .dataframe tbody tr th {\n",
       "        vertical-align: top;\n",
       "    }\n",
       "\n",
       "    .dataframe thead th {\n",
       "        text-align: right;\n",
       "    }\n",
       "</style>\n",
       "<table border=\"1\" class=\"dataframe\">\n",
       "  <thead>\n",
       "    <tr style=\"text-align: right;\">\n",
       "      <th></th>\n",
       "      <th></th>\n",
       "      <th>Rush_Att</th>\n",
       "      <th>Tgt</th>\n",
       "      <th>Rec</th>\n",
       "      <th>Tot_TD</th>\n",
       "    </tr>\n",
       "    <tr>\n",
       "      <th>Year</th>\n",
       "      <th>Player</th>\n",
       "      <th></th>\n",
       "      <th></th>\n",
       "      <th></th>\n",
       "      <th></th>\n",
       "    </tr>\n",
       "  </thead>\n",
       "  <tbody>\n",
       "    <tr>\n",
       "      <th rowspan=\"5\" valign=\"top\">2017</th>\n",
       "      <th>Todd Gurley</th>\n",
       "      <td>279</td>\n",
       "      <td>87</td>\n",
       "      <td>64</td>\n",
       "      <td>19</td>\n",
       "    </tr>\n",
       "    <tr>\n",
       "      <th>Le'Veon Bell</th>\n",
       "      <td>321</td>\n",
       "      <td>106</td>\n",
       "      <td>85</td>\n",
       "      <td>11</td>\n",
       "    </tr>\n",
       "    <tr>\n",
       "      <th>Alvin Kamara</th>\n",
       "      <td>120</td>\n",
       "      <td>100</td>\n",
       "      <td>81</td>\n",
       "      <td>14</td>\n",
       "    </tr>\n",
       "    <tr>\n",
       "      <th>Kareem Hunt</th>\n",
       "      <td>272</td>\n",
       "      <td>63</td>\n",
       "      <td>53</td>\n",
       "      <td>11</td>\n",
       "    </tr>\n",
       "    <tr>\n",
       "      <th>Melvin Gordon</th>\n",
       "      <td>284</td>\n",
       "      <td>83</td>\n",
       "      <td>58</td>\n",
       "      <td>12</td>\n",
       "    </tr>\n",
       "    <tr>\n",
       "      <th>...</th>\n",
       "      <th>...</th>\n",
       "      <td>...</td>\n",
       "      <td>...</td>\n",
       "      <td>...</td>\n",
       "      <td>...</td>\n",
       "    </tr>\n",
       "    <tr>\n",
       "      <th rowspan=\"5\" valign=\"top\">2018</th>\n",
       "      <th>Spencer Ware</th>\n",
       "      <td>51</td>\n",
       "      <td>23</td>\n",
       "      <td>20</td>\n",
       "      <td>2</td>\n",
       "    </tr>\n",
       "    <tr>\n",
       "      <th>Chris Ivory</th>\n",
       "      <td>115</td>\n",
       "      <td>21</td>\n",
       "      <td>13</td>\n",
       "      <td>1</td>\n",
       "    </tr>\n",
       "    <tr>\n",
       "      <th>Ty Montgomery</th>\n",
       "      <td>41</td>\n",
       "      <td>40</td>\n",
       "      <td>25</td>\n",
       "      <td>1</td>\n",
       "    </tr>\n",
       "    <tr>\n",
       "      <th>Rashaad Penny</th>\n",
       "      <td>85</td>\n",
       "      <td>12</td>\n",
       "      <td>9</td>\n",
       "      <td>2</td>\n",
       "    </tr>\n",
       "    <tr>\n",
       "      <th>Alfred Morris</th>\n",
       "      <td>111</td>\n",
       "      <td>13</td>\n",
       "      <td>8</td>\n",
       "      <td>2</td>\n",
       "    </tr>\n",
       "  </tbody>\n",
       "</table>\n",
       "<p>220 rows × 4 columns</p>\n",
       "</div>"
      ],
      "text/plain": [
       "                    Rush_Att  Tgt  Rec  Tot_TD\n",
       "Year Player                                   \n",
       "2017 Todd Gurley         279   87   64      19\n",
       "     Le'Veon Bell        321  106   85      11\n",
       "     Alvin Kamara        120  100   81      14\n",
       "     Kareem Hunt         272   63   53      11\n",
       "     Melvin Gordon       284   83   58      12\n",
       "...                      ...  ...  ...     ...\n",
       "2018 Spencer Ware         51   23   20       2\n",
       "     Chris Ivory         115   21   13       1\n",
       "     Ty Montgomery        41   40   25       1\n",
       "     Rashaad Penny        85   12    9       2\n",
       "     Alfred Morris       111   13    8       2\n",
       "\n",
       "[220 rows x 4 columns]"
      ]
     },
     "execution_count": 7,
     "metadata": {},
     "output_type": "execute_result"
    }
   ],
   "source": [
    "RPSData = RPSData.set_index(['Year', 'Player'],drop = True)\n",
    "RPSData.head(220)"
   ]
  },
  {
   "cell_type": "code",
   "execution_count": 8,
   "metadata": {},
   "outputs": [
    {
     "data": {
      "text/html": [
       "<div>\n",
       "<style scoped>\n",
       "    .dataframe tbody tr th:only-of-type {\n",
       "        vertical-align: middle;\n",
       "    }\n",
       "\n",
       "    .dataframe tbody tr th {\n",
       "        vertical-align: top;\n",
       "    }\n",
       "\n",
       "    .dataframe thead th {\n",
       "        text-align: right;\n",
       "    }\n",
       "</style>\n",
       "<table border=\"1\" class=\"dataframe\">\n",
       "  <thead>\n",
       "    <tr style=\"text-align: right;\">\n",
       "      <th></th>\n",
       "      <th>Rush_Att</th>\n",
       "      <th>Tgt</th>\n",
       "      <th>Rec</th>\n",
       "      <th>Tot_TD</th>\n",
       "    </tr>\n",
       "  </thead>\n",
       "  <tbody>\n",
       "    <tr>\n",
       "      <th>count</th>\n",
       "      <td>619.000000</td>\n",
       "      <td>619.000000</td>\n",
       "      <td>619.000000</td>\n",
       "      <td>619.000000</td>\n",
       "    </tr>\n",
       "    <tr>\n",
       "      <th>mean</th>\n",
       "      <td>72.546042</td>\n",
       "      <td>22.723748</td>\n",
       "      <td>17.232633</td>\n",
       "      <td>2.954766</td>\n",
       "    </tr>\n",
       "    <tr>\n",
       "      <th>std</th>\n",
       "      <td>80.197445</td>\n",
       "      <td>25.040219</td>\n",
       "      <td>19.474924</td>\n",
       "      <td>3.846726</td>\n",
       "    </tr>\n",
       "    <tr>\n",
       "      <th>min</th>\n",
       "      <td>0.000000</td>\n",
       "      <td>0.000000</td>\n",
       "      <td>0.000000</td>\n",
       "      <td>0.000000</td>\n",
       "    </tr>\n",
       "    <tr>\n",
       "      <th>25%</th>\n",
       "      <td>8.000000</td>\n",
       "      <td>4.000000</td>\n",
       "      <td>3.000000</td>\n",
       "      <td>0.000000</td>\n",
       "    </tr>\n",
       "    <tr>\n",
       "      <th>50%</th>\n",
       "      <td>41.000000</td>\n",
       "      <td>13.000000</td>\n",
       "      <td>9.000000</td>\n",
       "      <td>1.000000</td>\n",
       "    </tr>\n",
       "    <tr>\n",
       "      <th>75%</th>\n",
       "      <td>116.500000</td>\n",
       "      <td>35.000000</td>\n",
       "      <td>25.500000</td>\n",
       "      <td>5.000000</td>\n",
       "    </tr>\n",
       "    <tr>\n",
       "      <th>max</th>\n",
       "      <td>378.000000</td>\n",
       "      <td>142.000000</td>\n",
       "      <td>116.000000</td>\n",
       "      <td>21.000000</td>\n",
       "    </tr>\n",
       "  </tbody>\n",
       "</table>\n",
       "</div>"
      ],
      "text/plain": [
       "         Rush_Att         Tgt         Rec      Tot_TD\n",
       "count  619.000000  619.000000  619.000000  619.000000\n",
       "mean    72.546042   22.723748   17.232633    2.954766\n",
       "std     80.197445   25.040219   19.474924    3.846726\n",
       "min      0.000000    0.000000    0.000000    0.000000\n",
       "25%      8.000000    4.000000    3.000000    0.000000\n",
       "50%     41.000000   13.000000    9.000000    1.000000\n",
       "75%    116.500000   35.000000   25.500000    5.000000\n",
       "max    378.000000  142.000000  116.000000   21.000000"
      ]
     },
     "execution_count": 8,
     "metadata": {},
     "output_type": "execute_result"
    }
   ],
   "source": [
    "RPSData.describe()"
   ]
  },
  {
   "cell_type": "markdown",
   "metadata": {},
   "source": [
    "## Data Preprocessing\n",
    "#### Standardize the data, apply Principal Component Analysis and the Elbow Method"
   ]
  },
  {
   "cell_type": "code",
   "execution_count": 9,
   "metadata": {},
   "outputs": [
    {
     "data": {
      "text/html": [
       "<div>\n",
       "<style scoped>\n",
       "    .dataframe tbody tr th:only-of-type {\n",
       "        vertical-align: middle;\n",
       "    }\n",
       "\n",
       "    .dataframe tbody tr th {\n",
       "        vertical-align: top;\n",
       "    }\n",
       "\n",
       "    .dataframe thead th {\n",
       "        text-align: right;\n",
       "    }\n",
       "</style>\n",
       "<table border=\"1\" class=\"dataframe\">\n",
       "  <thead>\n",
       "    <tr style=\"text-align: right;\">\n",
       "      <th></th>\n",
       "      <th></th>\n",
       "      <th>Rush_Att</th>\n",
       "      <th>Tgt</th>\n",
       "      <th>Rec</th>\n",
       "      <th>Tot_TD</th>\n",
       "    </tr>\n",
       "    <tr>\n",
       "      <th>Year</th>\n",
       "      <th>Player</th>\n",
       "      <th></th>\n",
       "      <th></th>\n",
       "      <th></th>\n",
       "      <th></th>\n",
       "    </tr>\n",
       "  </thead>\n",
       "  <tbody>\n",
       "    <tr>\n",
       "      <th rowspan=\"5\" valign=\"top\">2017</th>\n",
       "      <th>Todd Gurley</th>\n",
       "      <td>2.576403</td>\n",
       "      <td>2.568996</td>\n",
       "      <td>2.403357</td>\n",
       "      <td>4.174513</td>\n",
       "    </tr>\n",
       "    <tr>\n",
       "      <th>Le'Veon Bell</th>\n",
       "      <td>3.100534</td>\n",
       "      <td>3.328389</td>\n",
       "      <td>3.482539</td>\n",
       "      <td>2.093141</td>\n",
       "    </tr>\n",
       "    <tr>\n",
       "      <th>Alvin Kamara</th>\n",
       "      <td>0.592193</td>\n",
       "      <td>3.088581</td>\n",
       "      <td>3.276980</td>\n",
       "      <td>2.873656</td>\n",
       "    </tr>\n",
       "    <tr>\n",
       "      <th>Kareem Hunt</th>\n",
       "      <td>2.489048</td>\n",
       "      <td>1.609763</td>\n",
       "      <td>1.838071</td>\n",
       "      <td>2.093141</td>\n",
       "    </tr>\n",
       "    <tr>\n",
       "      <th>Melvin Gordon</th>\n",
       "      <td>2.638799</td>\n",
       "      <td>2.409124</td>\n",
       "      <td>2.095019</td>\n",
       "      <td>2.353313</td>\n",
       "    </tr>\n",
       "  </tbody>\n",
       "</table>\n",
       "</div>"
      ],
      "text/plain": [
       "                    Rush_Att       Tgt       Rec    Tot_TD\n",
       "Year Player                                               \n",
       "2017 Todd Gurley    2.576403  2.568996  2.403357  4.174513\n",
       "     Le'Veon Bell   3.100534  3.328389  3.482539  2.093141\n",
       "     Alvin Kamara   0.592193  3.088581  3.276980  2.873656\n",
       "     Kareem Hunt    2.489048  1.609763  1.838071  2.093141\n",
       "     Melvin Gordon  2.638799  2.409124  2.095019  2.353313"
      ]
     },
     "execution_count": 9,
     "metadata": {},
     "output_type": "execute_result"
    }
   ],
   "source": [
    "scaler = StandardScaler()\n",
    "scaler.fit(RPSData)\n",
    "X_scale = scaler.transform(RPSData)\n",
    "df_scale = pd.DataFrame(X_scale, columns = RPSData.columns, index = RPSData.index)\n",
    "df_scale.head()"
   ]
  },
  {
   "cell_type": "code",
   "execution_count": 10,
   "metadata": {},
   "outputs": [
    {
     "data": {
      "text/plain": [
       "PCA()"
      ]
     },
     "execution_count": 10,
     "metadata": {},
     "output_type": "execute_result"
    }
   ],
   "source": [
    "pca = PCA()\n",
    "pca.fit(X_scale)"
   ]
  },
  {
   "cell_type": "code",
   "execution_count": 11,
   "metadata": {},
   "outputs": [
    {
     "data": {
      "text/plain": [
       "array([0.80775926, 0.14765496, 0.04297035, 0.00161543])"
      ]
     },
     "execution_count": 11,
     "metadata": {},
     "output_type": "execute_result"
    }
   ],
   "source": [
    "pca.explained_variance_ratio_"
   ]
  },
  {
   "cell_type": "code",
   "execution_count": 14,
   "metadata": {},
   "outputs": [
    {
     "data": {
      "text/plain": [
       "Text(0, 0.5, 'Cumulative Explained Variance')"
      ]
     },
     "execution_count": 14,
     "metadata": {},
     "output_type": "execute_result"
    },
    {
     "data": {
      "image/png": "[encoded data removed]",
      "text/plain": [
       "<Figure size 1008x576 with 1 Axes>"
      ]
     },
     "metadata": {
      "needs_background": "light"
     },
     "output_type": "display_data"
    }
   ],
   "source": [
    "plt.figure(figsize = (14,8))\n",
    "plt.plot(range(1,5), pca.explained_variance_ratio_.cumsum(), marker = 'o', linestyle = '--')\n",
    "plt.title('Explained Variance By components')\n",
    "plt.xlabel('No. of Components')\n",
    "plt.ylabel('Cumulative Explained Variance')"
   ]
  },
  {
   "cell_type": "markdown",
   "metadata": {},
   "source": [
    "__Due to the high dimensionality of the data, principal component analysis was performed to reduce noise and increase the efficiency of the algorithm. The above plot indicates 3 components will explain the majority of the variance in the features.__"
   ]
  },
  {
   "cell_type": "code",
   "execution_count": 15,
   "metadata": {},
   "outputs": [],
   "source": [
    "pca = PCA(n_components = 3)\n"
   ]
  },
  {
   "cell_type": "code",
   "execution_count": 16,
   "metadata": {},
   "outputs": [
    {
     "data": {
      "text/plain": [
       "PCA(n_components=3)"
      ]
     },
     "execution_count": 16,
     "metadata": {},
     "output_type": "execute_result"
    }
   ],
   "source": [
    "pca.fit(X_scale)"
   ]
  },
  {
   "cell_type": "code",
   "execution_count": 17,
   "metadata": {},
   "outputs": [
    {
     "data": {
      "text/plain": [
       "array([[ 5.84329709e+00,  9.88204217e-01,  1.14457561e+00],\n",
       "       [ 6.01606098e+00, -5.51759978e-01, -8.30319357e-01],\n",
       "       [ 4.97804962e+00, -1.41513461e+00,  1.44517040e+00],\n",
       "       ...,\n",
       "       [-1.66596279e+00, -6.83822690e-02,  1.11026714e-01],\n",
       "       [-1.72780045e+00,  1.75426199e-03,  1.08721462e-01],\n",
       "       [-1.68070154e+00, -4.23437286e-02,  1.04613560e-01]])"
      ]
     },
     "execution_count": 17,
     "metadata": {},
     "output_type": "execute_result"
    }
   ],
   "source": [
    "pca.transform(X_scale)"
   ]
  },
  {
   "cell_type": "code",
   "execution_count": 18,
   "metadata": {},
   "outputs": [],
   "source": [
    "scores_pca = pca.transform(X_scale)"
   ]
  },
  {
   "cell_type": "code",
   "execution_count": 19,
   "metadata": {},
   "outputs": [],
   "source": [
    "wcss=[]\n",
    "for i in range(1,9):\n",
    "    kmeans_pca = KMeans(n_clusters = i, init = 'k-means++', random_state = 1)\n",
    "    kmeans_pca.fit(scores_pca)\n",
    "    wcss.append(kmeans_pca.inertia_)"
   ]
  },
  {
   "cell_type": "code",
   "execution_count": 20,
   "metadata": {},
   "outputs": [
    {
     "data": {
      "image/png": "[encoded data removed]",
      "text/plain": [
       "<Figure size 1080x576 with 1 Axes>"
      ]
     },
     "metadata": {
      "needs_background": "light"
     },
     "output_type": "display_data"
    }
   ],
   "source": [
    "plt.figure(figsize = (15,8))\n",
    "plt.plot(range(1,9), wcss, marker = 'x', linestyle = '--')\n",
    "\n",
    "#style the output\n",
    "plt.title('KMeans with PCA Clustering')\n",
    "plt.xlabel('No. of Clusters')\n",
    "plt.ylabel('WCSS')\n",
    "plt.show()"
   ]
  },
  {
   "cell_type": "markdown",
   "metadata": {},
   "source": [
    "__The Elbow plot above implies 3 clusters will be optimal for the K-Means algorithm.__"
   ]
  },
  {
   "cell_type": "markdown",
   "metadata": {},
   "source": [
    "## Perform K-means Clustering Algorithm"
   ]
  },
  {
   "cell_type": "code",
   "execution_count": 21,
   "metadata": {},
   "outputs": [],
   "source": [
    "kmeans_pca = KMeans(n_clusters = 3, init = 'k-means++', random_state = 1)"
   ]
  },
  {
   "cell_type": "code",
   "execution_count": 22,
   "metadata": {},
   "outputs": [
    {
     "data": {
      "text/plain": [
       "KMeans(n_clusters=3, random_state=1)"
      ]
     },
     "execution_count": 22,
     "metadata": {},
     "output_type": "execute_result"
    }
   ],
   "source": [
    "kmeans_pca.fit(scores_pca)"
   ]
  },
  {
   "cell_type": "code",
   "execution_count": 23,
   "metadata": {},
   "outputs": [],
   "source": [
    "clusters = kmeans_pca.predict(scores_pca) "
   ]
  },
  {
   "cell_type": "markdown",
   "metadata": {},
   "source": [
    "### Calculate the averages for the input feature for each of the 3 clusters"
   ]
  },
  {
   "cell_type": "code",
   "execution_count": 24,
   "metadata": {},
   "outputs": [
    {
     "data": {
      "text/html": [
       "<div>\n",
       "<style scoped>\n",
       "    .dataframe tbody tr th:only-of-type {\n",
       "        vertical-align: middle;\n",
       "    }\n",
       "\n",
       "    .dataframe tbody tr th {\n",
       "        vertical-align: top;\n",
       "    }\n",
       "\n",
       "    .dataframe thead th {\n",
       "        text-align: right;\n",
       "    }\n",
       "</style>\n",
       "<table border=\"1\" class=\"dataframe\">\n",
       "  <thead>\n",
       "    <tr style=\"text-align: right;\">\n",
       "      <th></th>\n",
       "      <th>0</th>\n",
       "      <th>1</th>\n",
       "      <th>2</th>\n",
       "    </tr>\n",
       "  </thead>\n",
       "  <tbody>\n",
       "    <tr>\n",
       "      <th>Rush_Att</th>\n",
       "      <td>22.174863</td>\n",
       "      <td>207.784615</td>\n",
       "      <td>123.851064</td>\n",
       "    </tr>\n",
       "    <tr>\n",
       "      <th>Tgt</th>\n",
       "      <td>7.193989</td>\n",
       "      <td>73.953846</td>\n",
       "      <td>35.244681</td>\n",
       "    </tr>\n",
       "    <tr>\n",
       "      <th>Rec</th>\n",
       "      <td>5.281421</td>\n",
       "      <td>57.015385</td>\n",
       "      <td>26.744681</td>\n",
       "    </tr>\n",
       "    <tr>\n",
       "      <th>Tot_TD</th>\n",
       "      <td>0.729508</td>\n",
       "      <td>10.661538</td>\n",
       "      <td>4.622340</td>\n",
       "    </tr>\n",
       "    <tr>\n",
       "      <th>Feature Average</th>\n",
       "      <td>8.844945</td>\n",
       "      <td>87.353846</td>\n",
       "      <td>47.615691</td>\n",
       "    </tr>\n",
       "  </tbody>\n",
       "</table>\n",
       "</div>"
      ],
      "text/plain": [
       "                         0           1           2\n",
       "Rush_Att         22.174863  207.784615  123.851064\n",
       "Tgt               7.193989   73.953846   35.244681\n",
       "Rec               5.281421   57.015385   26.744681\n",
       "Tot_TD            0.729508   10.661538    4.622340\n",
       "Feature Average   8.844945   87.353846   47.615691"
      ]
     },
     "execution_count": 24,
     "metadata": {},
     "output_type": "execute_result"
    }
   ],
   "source": [
    "RPSData['Feature Average'] = RPSData[['Rush_Att', 'Tgt', 'Rec', 'Tot_TD']].mean(axis = 1)\n",
    "\n",
    "ClusterAvg = RPSData.groupby(kmeans_pca.labels_).mean().transpose()\n",
    "ClusterAvg.head(7)"
   ]
  },
  {
   "cell_type": "markdown",
   "metadata": {},
   "source": [
    "__The above data frame shows that the best players fall into cluster 1, average players are located in cluster2, and the wors players are in cluster 0.__"
   ]
  },
  {
   "cell_type": "markdown",
   "metadata": {},
   "source": [
    "## Add cluster column to the original dataframe and label the clusters"
   ]
  },
  {
   "cell_type": "code",
   "execution_count": 25,
   "metadata": {},
   "outputs": [],
   "source": [
    "df_pca_kmeans = pd.concat([RPSData.reset_index(drop=False), pd.DataFrame(scores_pca)], axis = 1)\n",
    "\n",
    "#df_pca_kmeans = pd.DataFrame(X_scale, columns = RPSCopy.columns, index = RPSCopy.index)\n",
    "df_pca_kmeans.columns.values[-3: ] = ['Component 1', 'Component 2', 'Component 3']\n",
    "df_pca_kmeans['KMeans PCA'] = kmeans_pca.labels_\n",
    "df_pca_kmeans = df_pca_kmeans.set_index(['Year', 'Player'],drop = True)"
   ]
  },
  {
   "cell_type": "code",
   "execution_count": 26,
   "metadata": {},
   "outputs": [
    {
     "data": {
      "text/html": [
       "<div>\n",
       "<style scoped>\n",
       "    .dataframe tbody tr th:only-of-type {\n",
       "        vertical-align: middle;\n",
       "    }\n",
       "\n",
       "    .dataframe tbody tr th {\n",
       "        vertical-align: top;\n",
       "    }\n",
       "\n",
       "    .dataframe thead th {\n",
       "        text-align: right;\n",
       "    }\n",
       "</style>\n",
       "<table border=\"1\" class=\"dataframe\">\n",
       "  <thead>\n",
       "    <tr style=\"text-align: right;\">\n",
       "      <th></th>\n",
       "      <th></th>\n",
       "      <th>Rush_Att</th>\n",
       "      <th>Tgt</th>\n",
       "      <th>Rec</th>\n",
       "      <th>Tot_TD</th>\n",
       "      <th>Feature Average</th>\n",
       "      <th>Component 1</th>\n",
       "      <th>Component 2</th>\n",
       "      <th>Component 3</th>\n",
       "      <th>KMeans PCA</th>\n",
       "    </tr>\n",
       "    <tr>\n",
       "      <th>Year</th>\n",
       "      <th>Player</th>\n",
       "      <th></th>\n",
       "      <th></th>\n",
       "      <th></th>\n",
       "      <th></th>\n",
       "      <th></th>\n",
       "      <th></th>\n",
       "      <th></th>\n",
       "      <th></th>\n",
       "      <th></th>\n",
       "    </tr>\n",
       "  </thead>\n",
       "  <tbody>\n",
       "    <tr>\n",
       "      <th rowspan=\"5\" valign=\"top\">2017</th>\n",
       "      <th>Todd Gurley</th>\n",
       "      <td>279</td>\n",
       "      <td>87</td>\n",
       "      <td>64</td>\n",
       "      <td>19</td>\n",
       "      <td>112.25</td>\n",
       "      <td>5.843297</td>\n",
       "      <td>0.988204</td>\n",
       "      <td>1.144576</td>\n",
       "      <td>1</td>\n",
       "    </tr>\n",
       "    <tr>\n",
       "      <th>Le'Veon Bell</th>\n",
       "      <td>321</td>\n",
       "      <td>106</td>\n",
       "      <td>85</td>\n",
       "      <td>11</td>\n",
       "      <td>130.75</td>\n",
       "      <td>6.016061</td>\n",
       "      <td>-0.551760</td>\n",
       "      <td>-0.830319</td>\n",
       "      <td>1</td>\n",
       "    </tr>\n",
       "    <tr>\n",
       "      <th>Alvin Kamara</th>\n",
       "      <td>120</td>\n",
       "      <td>100</td>\n",
       "      <td>81</td>\n",
       "      <td>14</td>\n",
       "      <td>78.75</td>\n",
       "      <td>4.978050</td>\n",
       "      <td>-1.415135</td>\n",
       "      <td>1.445170</td>\n",
       "      <td>1</td>\n",
       "    </tr>\n",
       "    <tr>\n",
       "      <th>Kareem Hunt</th>\n",
       "      <td>272</td>\n",
       "      <td>63</td>\n",
       "      <td>53</td>\n",
       "      <td>11</td>\n",
       "      <td>99.75</td>\n",
       "      <td>3.990854</td>\n",
       "      <td>0.717633</td>\n",
       "      <td>-0.268839</td>\n",
       "      <td>1</td>\n",
       "    </tr>\n",
       "    <tr>\n",
       "      <th>Melvin Gordon</th>\n",
       "      <td>284</td>\n",
       "      <td>83</td>\n",
       "      <td>58</td>\n",
       "      <td>12</td>\n",
       "      <td>109.25</td>\n",
       "      <td>4.735606</td>\n",
       "      <td>0.418169</td>\n",
       "      <td>-0.225678</td>\n",
       "      <td>1</td>\n",
       "    </tr>\n",
       "  </tbody>\n",
       "</table>\n",
       "</div>"
      ],
      "text/plain": [
       "                    Rush_Att  Tgt  Rec  Tot_TD  Feature Average  Component 1  \\\n",
       "Year Player                                                                    \n",
       "2017 Todd Gurley         279   87   64      19           112.25     5.843297   \n",
       "     Le'Veon Bell        321  106   85      11           130.75     6.016061   \n",
       "     Alvin Kamara        120  100   81      14            78.75     4.978050   \n",
       "     Kareem Hunt         272   63   53      11            99.75     3.990854   \n",
       "     Melvin Gordon       284   83   58      12           109.25     4.735606   \n",
       "\n",
       "                    Component 2  Component 3  KMeans PCA  \n",
       "Year Player                                               \n",
       "2017 Todd Gurley       0.988204     1.144576           1  \n",
       "     Le'Veon Bell     -0.551760    -0.830319           1  \n",
       "     Alvin Kamara     -1.415135     1.445170           1  \n",
       "     Kareem Hunt       0.717633    -0.268839           1  \n",
       "     Melvin Gordon     0.418169    -0.225678           1  "
      ]
     },
     "execution_count": 26,
     "metadata": {},
     "output_type": "execute_result"
    }
   ],
   "source": [
    "df_pca_kmeans.head()"
   ]
  },
  {
   "cell_type": "code",
   "execution_count": 27,
   "metadata": {},
   "outputs": [
    {
     "data": {
      "text/html": [
       "<div>\n",
       "<style scoped>\n",
       "    .dataframe tbody tr th:only-of-type {\n",
       "        vertical-align: middle;\n",
       "    }\n",
       "\n",
       "    .dataframe tbody tr th {\n",
       "        vertical-align: top;\n",
       "    }\n",
       "\n",
       "    .dataframe thead th {\n",
       "        text-align: right;\n",
       "    }\n",
       "</style>\n",
       "<table border=\"1\" class=\"dataframe\">\n",
       "  <thead>\n",
       "    <tr style=\"text-align: right;\">\n",
       "      <th></th>\n",
       "      <th></th>\n",
       "      <th>Rush_Att</th>\n",
       "      <th>Tgt</th>\n",
       "      <th>Rec</th>\n",
       "      <th>Tot_TD</th>\n",
       "      <th>Feature Average</th>\n",
       "      <th>Component 1</th>\n",
       "      <th>Component 2</th>\n",
       "      <th>Component 3</th>\n",
       "      <th>KMeans PCA</th>\n",
       "      <th>Player Grouping</th>\n",
       "    </tr>\n",
       "    <tr>\n",
       "      <th>Year</th>\n",
       "      <th>Player</th>\n",
       "      <th></th>\n",
       "      <th></th>\n",
       "      <th></th>\n",
       "      <th></th>\n",
       "      <th></th>\n",
       "      <th></th>\n",
       "      <th></th>\n",
       "      <th></th>\n",
       "      <th></th>\n",
       "      <th></th>\n",
       "    </tr>\n",
       "  </thead>\n",
       "  <tbody>\n",
       "    <tr>\n",
       "      <th rowspan=\"5\" valign=\"top\">2020</th>\n",
       "      <th>Jonathan Williams</th>\n",
       "      <td>1</td>\n",
       "      <td>4</td>\n",
       "      <td>4</td>\n",
       "      <td>0</td>\n",
       "      <td>2.25</td>\n",
       "      <td>-1.539405</td>\n",
       "      <td>-0.174638</td>\n",
       "      <td>0.092290</td>\n",
       "      <td>0</td>\n",
       "      <td>Worst Players</td>\n",
       "    </tr>\n",
       "    <tr>\n",
       "      <th>Tony Brooks-James</th>\n",
       "      <td>3</td>\n",
       "      <td>0</td>\n",
       "      <td>0</td>\n",
       "      <td>0</td>\n",
       "      <td>0.75</td>\n",
       "      <td>-1.715937</td>\n",
       "      <td>0.016026</td>\n",
       "      <td>0.092036</td>\n",
       "      <td>0</td>\n",
       "      <td>Worst Players</td>\n",
       "    </tr>\n",
       "    <tr>\n",
       "      <th>Bruce Miller</th>\n",
       "      <td>0</td>\n",
       "      <td>2</td>\n",
       "      <td>1</td>\n",
       "      <td>0</td>\n",
       "      <td>0.75</td>\n",
       "      <td>-1.665963</td>\n",
       "      <td>-0.068382</td>\n",
       "      <td>0.111027</td>\n",
       "      <td>0</td>\n",
       "      <td>Worst Players</td>\n",
       "    </tr>\n",
       "    <tr>\n",
       "      <th>Qadree Ollison</th>\n",
       "      <td>1</td>\n",
       "      <td>0</td>\n",
       "      <td>0</td>\n",
       "      <td>0</td>\n",
       "      <td>0.25</td>\n",
       "      <td>-1.727800</td>\n",
       "      <td>0.001754</td>\n",
       "      <td>0.108721</td>\n",
       "      <td>0</td>\n",
       "      <td>Worst Players</td>\n",
       "    </tr>\n",
       "    <tr>\n",
       "      <th>Adrian Killins</th>\n",
       "      <td>1</td>\n",
       "      <td>1</td>\n",
       "      <td>1</td>\n",
       "      <td>0</td>\n",
       "      <td>0.75</td>\n",
       "      <td>-1.680702</td>\n",
       "      <td>-0.042344</td>\n",
       "      <td>0.104614</td>\n",
       "      <td>0</td>\n",
       "      <td>Worst Players</td>\n",
       "    </tr>\n",
       "  </tbody>\n",
       "</table>\n",
       "</div>"
      ],
      "text/plain": [
       "                        Rush_Att  Tgt  Rec  Tot_TD  Feature Average  \\\n",
       "Year Player                                                           \n",
       "2020 Jonathan Williams         1    4    4       0             2.25   \n",
       "     Tony Brooks-James         3    0    0       0             0.75   \n",
       "     Bruce Miller              0    2    1       0             0.75   \n",
       "     Qadree Ollison            1    0    0       0             0.25   \n",
       "     Adrian Killins            1    1    1       0             0.75   \n",
       "\n",
       "                        Component 1  Component 2  Component 3  KMeans PCA  \\\n",
       "Year Player                                                                 \n",
       "2020 Jonathan Williams    -1.539405    -0.174638     0.092290           0   \n",
       "     Tony Brooks-James    -1.715937     0.016026     0.092036           0   \n",
       "     Bruce Miller         -1.665963    -0.068382     0.111027           0   \n",
       "     Qadree Ollison       -1.727800     0.001754     0.108721           0   \n",
       "     Adrian Killins       -1.680702    -0.042344     0.104614           0   \n",
       "\n",
       "                       Player Grouping  \n",
       "Year Player                             \n",
       "2020 Jonathan Williams   Worst Players  \n",
       "     Tony Brooks-James   Worst Players  \n",
       "     Bruce Miller        Worst Players  \n",
       "     Qadree Ollison      Worst Players  \n",
       "     Adrian Killins      Worst Players  "
      ]
     },
     "execution_count": 27,
     "metadata": {},
     "output_type": "execute_result"
    }
   ],
   "source": [
    "df_pca_kmeans['Player Grouping'] = df_pca_kmeans['KMeans PCA'].map({0:'Worst Players', 1:'Best Players', 2:'Average Players'})\n",
    "df_pca_kmeans.tail()"
   ]
  },
  {
   "cell_type": "code",
   "execution_count": 28,
   "metadata": {},
   "outputs": [],
   "source": [
    "#Export model results to excel\n",
    "df_pca_kmeans.to_excel (r'C:\\Users\\KMeansRB_PredModel_NOPPR.xlsx', index = True, header=True)"
   ]
  },
  {
   "cell_type": "markdown",
   "metadata": {},
   "source": [
    "## Visualize the Clusters"
   ]
  },
  {
   "cell_type": "code",
   "execution_count": 29,
   "metadata": {},
   "outputs": [
    {
     "name": "stderr",
     "output_type": "stream",
     "text": [
      "C:\\Users\\ashle\\anaconda3\\lib\\site-packages\\seaborn\\_decorators.py:36: FutureWarning: Pass the following variables as keyword args: x, y. From version 0.12, the only valid positional argument will be `data`, and passing other arguments without an explicit keyword will result in an error or misinterpretation.\n",
      "  warnings.warn(\n"
     ]
    },
    {
     "data": {
      "text/plain": [
       "Text(0.5, 1.0, 'Clusters By PCA Components')"
      ]
     },
     "execution_count": 29,
     "metadata": {},
     "output_type": "execute_result"
    },
    {
     "data": {
      "image/png": "[encoded data removed]",
      "text/plain": [
       "<Figure size 1080x576 with 1 Axes>"
      ]
     },
     "metadata": {
      "needs_background": "light"
     },
     "output_type": "display_data"
    }
   ],
   "source": [
    "plt.figure(figsize = (15,8))\n",
    "x_axis = df_pca_kmeans['Component 2']\n",
    "y_axis = df_pca_kmeans['Component 1']\n",
    "sns.scatterplot(x_axis,y_axis, hue = df_pca_kmeans['Player Grouping'], palette = ['g','r','c'])\n",
    "\n",
    "plt.legend()\n",
    "plt.title('Clusters By PCA Components')\n"
   ]
  }
 ],
 "metadata": {
  "kernelspec": {
   "display_name": "Python 3",
   "language": "python",
   "name": "python3"
  },
  "language_info": {
   "codemirror_mode": {
    "name": "ipython",
    "version": 3
   },
   "file_extension": ".py",
   "mimetype": "text/x-python",
   "name": "python",
   "nbconvert_exporter": "python",
   "pygments_lexer": "ipython3",
   "version": "3.8.8"
  }
 },
 "nbformat": 4,
 "nbformat_minor": 4
}
